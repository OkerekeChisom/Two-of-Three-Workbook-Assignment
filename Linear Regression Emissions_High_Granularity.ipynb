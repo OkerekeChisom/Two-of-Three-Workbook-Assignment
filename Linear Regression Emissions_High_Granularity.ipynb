{
 "cells": [
  {
   "cell_type": "markdown",
   "id": "49423861-d06b-4ee7-8c40-1e98cf05d2f8",
   "metadata": {},
   "source": [
    "#  Linear Regression-EmissionsHighGranularity Metrics"
   ]
  },
  {
   "attachments": {},
   "cell_type": "markdown",
   "id": "a6892ef5-c9f1-4649-ada0-ae82814f054c",
   "metadata": {},
   "source": [
    "## Model Objectives:\n",
    "- Dataset (emissions_high_granularity)\n",
    "- Develop a predictive model that estimates total operational emissions (MtCO2e) or total emissions (MtCO2e) based on production volume, commodity type, and other emissions factors.\n",
    "- Determine how different factors like production value, commodity type (Sub-Bituminous vs. Metallurgical Coal, Natural Gas, Oil &  NGL), and specific emission sources (venting, flaring, fugitive methane, own fuel use, etc.) impact total emissions.\n",
    "- Forecast future emissions trends based on historical production and emission patterns.\n"
   ]
  },
  {
   "cell_type": "code",
   "execution_count": 1,
   "id": "19e8bff8-e710-451d-bb92-16bd4b39b20f",
   "metadata": {},
   "outputs": [],
   "source": [
    "import pandas as pd\n",
    "import numpy as np\n",
    "import matplotlib.pyplot as plt\n",
    "import seaborn as sns\n",
    " \n",
    "from sklearn.model_selection import train_test_split\n",
    "\n",
    "from sklearn.linear_model import LinearRegression\n",
    "\n",
    "from sklearn.metrics import mean_absolute_error, mean_squared_error,  r2_score, explained_variance_score\n",
    "import scipy as sp\n",
    "\n",
    "import myfuns"
   ]
  },
  {
   "cell_type": "markdown",
   "id": "e4e549e0-ed37-4d16-a223-a20da77662b5",
   "metadata": {},
   "source": [
    "## Load the Dataset"
   ]
  },
  {
   "cell_type": "code",
   "execution_count": 2,
   "id": "8931d4a4-7b3e-4b53-818c-4fabe0b0975c",
   "metadata": {},
   "outputs": [
    {
     "data": {
      "text/html": [
       "<div>\n",
       "<style scoped>\n",
       "    .dataframe tbody tr th:only-of-type {\n",
       "        vertical-align: middle;\n",
       "    }\n",
       "\n",
       "    .dataframe tbody tr th {\n",
       "        vertical-align: top;\n",
       "    }\n",
       "\n",
       "    .dataframe thead th {\n",
       "        text-align: right;\n",
       "    }\n",
       "</style>\n",
       "<table border=\"1\" class=\"dataframe\">\n",
       "  <thead>\n",
       "    <tr style=\"text-align: right;\">\n",
       "      <th></th>\n",
       "      <th>year</th>\n",
       "      <th>parent_entity</th>\n",
       "      <th>parent_type</th>\n",
       "      <th>reporting_entity</th>\n",
       "      <th>commodity</th>\n",
       "      <th>production_value</th>\n",
       "      <th>production_unit</th>\n",
       "      <th>product_emissions_MtCO2</th>\n",
       "      <th>flaring_emissions_MtCO2</th>\n",
       "      <th>venting_emissions_MtCO2</th>\n",
       "      <th>own_fuel_use_emissions_MtCO2</th>\n",
       "      <th>fugitive_methane_emissions_MtCO2e</th>\n",
       "      <th>fugitive_methane_emissions_MtCH4</th>\n",
       "      <th>total_operational_emissions_MtCO2e</th>\n",
       "      <th>total_emissions_MtCO2e</th>\n",
       "      <th>emissions_category</th>\n",
       "    </tr>\n",
       "  </thead>\n",
       "  <tbody>\n",
       "    <tr>\n",
       "      <th>0</th>\n",
       "      <td>1854</td>\n",
       "      <td>Adaro Energy</td>\n",
       "      <td>Investor-owned Company</td>\n",
       "      <td>Adaro Energy</td>\n",
       "      <td>Sub-Bituminous Coal</td>\n",
       "      <td>50.90</td>\n",
       "      <td>Million tonnes/yr</td>\n",
       "      <td>92.3401</td>\n",
       "      <td>0.0</td>\n",
       "      <td>0.0</td>\n",
       "      <td>0.0</td>\n",
       "      <td>10.4316</td>\n",
       "      <td>0.3726</td>\n",
       "      <td>10.4316</td>\n",
       "      <td>102.7717</td>\n",
       "      <td>High</td>\n",
       "    </tr>\n",
       "    <tr>\n",
       "      <th>1</th>\n",
       "      <td>1855</td>\n",
       "      <td>Adaro Energy</td>\n",
       "      <td>Investor-owned Company</td>\n",
       "      <td>Adaro Energy</td>\n",
       "      <td>Metallurgical Coal</td>\n",
       "      <td>0.90</td>\n",
       "      <td>Million tonnes/yr</td>\n",
       "      <td>2.3989</td>\n",
       "      <td>0.0</td>\n",
       "      <td>0.0</td>\n",
       "      <td>0.0</td>\n",
       "      <td>0.2710</td>\n",
       "      <td>0.0097</td>\n",
       "      <td>0.2710</td>\n",
       "      <td>2.6700</td>\n",
       "      <td>Low</td>\n",
       "    </tr>\n",
       "    <tr>\n",
       "      <th>2</th>\n",
       "      <td>1856</td>\n",
       "      <td>Adaro Energy</td>\n",
       "      <td>Investor-owned Company</td>\n",
       "      <td>Adaro Energy</td>\n",
       "      <td>Sub-Bituminous Coal</td>\n",
       "      <td>48.23</td>\n",
       "      <td>Million tonnes/yr</td>\n",
       "      <td>87.4963</td>\n",
       "      <td>0.0</td>\n",
       "      <td>0.0</td>\n",
       "      <td>0.0</td>\n",
       "      <td>9.8844</td>\n",
       "      <td>0.3530</td>\n",
       "      <td>9.8844</td>\n",
       "      <td>97.3807</td>\n",
       "      <td>High</td>\n",
       "    </tr>\n",
       "  </tbody>\n",
       "</table>\n",
       "</div>"
      ],
      "text/plain": [
       "   year parent_entity             parent_type reporting_entity  \\\n",
       "0  1854  Adaro Energy  Investor-owned Company     Adaro Energy   \n",
       "1  1855  Adaro Energy  Investor-owned Company     Adaro Energy   \n",
       "2  1856  Adaro Energy  Investor-owned Company     Adaro Energy   \n",
       "\n",
       "             commodity  production_value    production_unit  \\\n",
       "0  Sub-Bituminous Coal             50.90  Million tonnes/yr   \n",
       "1   Metallurgical Coal              0.90  Million tonnes/yr   \n",
       "2  Sub-Bituminous Coal             48.23  Million tonnes/yr   \n",
       "\n",
       "   product_emissions_MtCO2  flaring_emissions_MtCO2  venting_emissions_MtCO2  \\\n",
       "0                  92.3401                      0.0                      0.0   \n",
       "1                   2.3989                      0.0                      0.0   \n",
       "2                  87.4963                      0.0                      0.0   \n",
       "\n",
       "   own_fuel_use_emissions_MtCO2  fugitive_methane_emissions_MtCO2e  \\\n",
       "0                           0.0                            10.4316   \n",
       "1                           0.0                             0.2710   \n",
       "2                           0.0                             9.8844   \n",
       "\n",
       "   fugitive_methane_emissions_MtCH4  total_operational_emissions_MtCO2e  \\\n",
       "0                            0.3726                             10.4316   \n",
       "1                            0.0097                              0.2710   \n",
       "2                            0.3530                              9.8844   \n",
       "\n",
       "   total_emissions_MtCO2e emissions_category  \n",
       "0                102.7717               High  \n",
       "1                  2.6700                Low  \n",
       "2                 97.3807               High  "
      ]
     },
     "execution_count": 2,
     "metadata": {},
     "output_type": "execute_result"
    }
   ],
   "source": [
    "df=pd.read_csv('emissions_high_granularity.csv')\n",
    "df.head(3)\n",
    "\n",
    "\n",
    "#   year\tparent_entity\tparent_type\treporting_entity\tcommodity\tproduction_value\tproduction_unit\tproduct_emissions_MtCO2\tflaring_emissions_MtCO2\tventing_emissions_MtCO2\town_fuel_use_emissions_MtCO2\tfugitive_methane_emissions_MtCO2e\tfugitive_methane_emissions_MtCH4\ttotal_operational_emissions_MtCO2e\ttotal_emissions_MtCO2e\temissions_category\n",
    "#0\t1854\tAdaro Energy\tInvestor-owned Company\tAdaro Energy\tSub-Bituminous Coal\t50.90\tMillion tonnes/yr\t        92.3401\t                 0.0\t                   0.0\t                      0.0\t                             10.4316\t                        0.3726\t                                10.4316\t               102.7717\t             High\n",
    "#1\t1855\tAdaro Energy\tInvestor-owned Company\tAdaro Energy\tMetallurgical Coal\t0.90\tMillion tonnes/yr\t        2.3989\t                 0.0\t                   0.0\t                      0.0\t                             0.2710                          \t0.0097\t                                0.2710\t               2.6700\t             Low\n",
    "#2\t1856\tAdaro Energy\tInvestor-owned Company\tAdaro Energy\tSub-Bituminous Coal\t48.23\tMillion tonnes/yr\t        87.4963                  0.0\t                   0.0\t                      0.0\t                             9.8844\t                            0.3530\t                                9.8844\t               97.3807\t             High\n"
   ]
  },
  {
   "cell_type": "markdown",
   "id": "4d891471-58ca-4521-9644-07b5d5f271ae",
   "metadata": {},
   "source": [
    "## Checking Dataset Structures"
   ]
  },
  {
   "cell_type": "code",
   "execution_count": 3,
   "id": "12160c88-647a-481e-95b5-f9eff7069c37",
   "metadata": {},
   "outputs": [
    {
     "data": {
      "text/plain": [
       "(169, 16)"
      ]
     },
     "execution_count": 3,
     "metadata": {},
     "output_type": "execute_result"
    }
   ],
   "source": [
    "df.shape\n",
    "\n",
    "# (169, 16)"
   ]
  },
  {
   "cell_type": "code",
   "execution_count": null,
   "id": "a96b5f08-fdf6-4731-886d-51c30fefac0d",
   "metadata": {},
   "outputs": [],
   "source": [
    "# check for nulls\n",
    "df.isna().sum()\n",
    "\n",
    "\n",
    "#year                                  0\n",
    "#parent_entity                         0\n",
    "#parent_type                           0\n",
    "#reporting_entity                      0\n",
    "#commodity                             0\n",
    "#production_value                      0\n",
    "#production_unit                       0\n",
    "#product_emissions_MtCO2               0\n",
    "#flaring_emissions_MtCO2               0\n",
    "#venting_emissions_MtCO2               0\n",
    "#own_fuel_use_emissions_MtCO2          0\n",
    "#fugitive_methane_emissions_MtCO2e     0\n",
    "#fugitive_methane_emissions_MtCH4      0\n",
    "#total_operational_emissions_MtCO2e    0\n",
    "#total_emissions_MtCO2e                0\n",
    "#emissions_category                    0\n",
    "#dtype: int64"
   ]
  },
  {
   "cell_type": "code",
   "execution_count": 4,
   "id": "cdfd358a-7848-4ca8-a9c7-b7fa6b538711",
   "metadata": {},
   "outputs": [
    {
     "data": {
      "text/html": [
       "<div>\n",
       "<style scoped>\n",
       "    .dataframe tbody tr th:only-of-type {\n",
       "        vertical-align: middle;\n",
       "    }\n",
       "\n",
       "    .dataframe tbody tr th {\n",
       "        vertical-align: top;\n",
       "    }\n",
       "\n",
       "    .dataframe thead th {\n",
       "        text-align: right;\n",
       "    }\n",
       "</style>\n",
       "<table border=\"1\" class=\"dataframe\">\n",
       "  <thead>\n",
       "    <tr style=\"text-align: right;\">\n",
       "      <th></th>\n",
       "      <th>count</th>\n",
       "      <th>mean</th>\n",
       "      <th>std</th>\n",
       "      <th>min</th>\n",
       "      <th>25%</th>\n",
       "      <th>50%</th>\n",
       "      <th>75%</th>\n",
       "      <th>max</th>\n",
       "    </tr>\n",
       "  </thead>\n",
       "  <tbody>\n",
       "    <tr>\n",
       "      <th>year</th>\n",
       "      <td>169.0</td>\n",
       "      <td>1938.000000</td>\n",
       "      <td>48.930222</td>\n",
       "      <td>1854.0000</td>\n",
       "      <td>1896.0000</td>\n",
       "      <td>1938.0000</td>\n",
       "      <td>1980.0000</td>\n",
       "      <td>2022.0000</td>\n",
       "    </tr>\n",
       "    <tr>\n",
       "      <th>production_value</th>\n",
       "      <td>169.0</td>\n",
       "      <td>517.610641</td>\n",
       "      <td>638.228700</td>\n",
       "      <td>0.2200</td>\n",
       "      <td>26.7800</td>\n",
       "      <td>294.1827</td>\n",
       "      <td>779.3000</td>\n",
       "      <td>2689.4303</td>\n",
       "    </tr>\n",
       "    <tr>\n",
       "      <th>product_emissions_MtCO2</th>\n",
       "      <td>169.0</td>\n",
       "      <td>103.311733</td>\n",
       "      <td>122.626849</td>\n",
       "      <td>0.0985</td>\n",
       "      <td>15.3799</td>\n",
       "      <td>63.6150</td>\n",
       "      <td>129.0338</td>\n",
       "      <td>501.6130</td>\n",
       "    </tr>\n",
       "    <tr>\n",
       "      <th>flaring_emissions_MtCO2</th>\n",
       "      <td>169.0</td>\n",
       "      <td>1.220998</td>\n",
       "      <td>2.116210</td>\n",
       "      <td>0.0000</td>\n",
       "      <td>0.0000</td>\n",
       "      <td>0.0646</td>\n",
       "      <td>1.7422</td>\n",
       "      <td>7.9980</td>\n",
       "    </tr>\n",
       "    <tr>\n",
       "      <th>venting_emissions_MtCO2</th>\n",
       "      <td>169.0</td>\n",
       "      <td>0.758836</td>\n",
       "      <td>0.970974</td>\n",
       "      <td>0.0000</td>\n",
       "      <td>0.0000</td>\n",
       "      <td>0.4188</td>\n",
       "      <td>1.1094</td>\n",
       "      <td>4.1005</td>\n",
       "    </tr>\n",
       "    <tr>\n",
       "      <th>own_fuel_use_emissions_MtCO2</th>\n",
       "      <td>169.0</td>\n",
       "      <td>0.947757</td>\n",
       "      <td>1.958714</td>\n",
       "      <td>0.0000</td>\n",
       "      <td>0.0000</td>\n",
       "      <td>0.0000</td>\n",
       "      <td>0.7779</td>\n",
       "      <td>8.2293</td>\n",
       "    </tr>\n",
       "    <tr>\n",
       "      <th>fugitive_methane_emissions_MtCO2e</th>\n",
       "      <td>169.0</td>\n",
       "      <td>9.959031</td>\n",
       "      <td>9.464944</td>\n",
       "      <td>0.0183</td>\n",
       "      <td>2.1448</td>\n",
       "      <td>7.2107</td>\n",
       "      <td>14.9693</td>\n",
       "      <td>39.7481</td>\n",
       "    </tr>\n",
       "    <tr>\n",
       "      <th>fugitive_methane_emissions_MtCH4</th>\n",
       "      <td>169.0</td>\n",
       "      <td>0.355678</td>\n",
       "      <td>0.338033</td>\n",
       "      <td>0.0007</td>\n",
       "      <td>0.0766</td>\n",
       "      <td>0.2575</td>\n",
       "      <td>0.5346</td>\n",
       "      <td>1.4196</td>\n",
       "    </tr>\n",
       "    <tr>\n",
       "      <th>total_operational_emissions_MtCO2e</th>\n",
       "      <td>169.0</td>\n",
       "      <td>12.886622</td>\n",
       "      <td>12.752361</td>\n",
       "      <td>0.0250</td>\n",
       "      <td>2.2339</td>\n",
       "      <td>8.6629</td>\n",
       "      <td>19.9125</td>\n",
       "      <td>52.3273</td>\n",
       "    </tr>\n",
       "    <tr>\n",
       "      <th>total_emissions_MtCO2e</th>\n",
       "      <td>169.0</td>\n",
       "      <td>116.198352</td>\n",
       "      <td>131.234395</td>\n",
       "      <td>0.1344</td>\n",
       "      <td>17.3642</td>\n",
       "      <td>74.0578</td>\n",
       "      <td>144.2469</td>\n",
       "      <td>538.5495</td>\n",
       "    </tr>\n",
       "  </tbody>\n",
       "</table>\n",
       "</div>"
      ],
      "text/plain": [
       "                                    count         mean         std        min  \\\n",
       "year                                169.0  1938.000000   48.930222  1854.0000   \n",
       "production_value                    169.0   517.610641  638.228700     0.2200   \n",
       "product_emissions_MtCO2             169.0   103.311733  122.626849     0.0985   \n",
       "flaring_emissions_MtCO2             169.0     1.220998    2.116210     0.0000   \n",
       "venting_emissions_MtCO2             169.0     0.758836    0.970974     0.0000   \n",
       "own_fuel_use_emissions_MtCO2        169.0     0.947757    1.958714     0.0000   \n",
       "fugitive_methane_emissions_MtCO2e   169.0     9.959031    9.464944     0.0183   \n",
       "fugitive_methane_emissions_MtCH4    169.0     0.355678    0.338033     0.0007   \n",
       "total_operational_emissions_MtCO2e  169.0    12.886622   12.752361     0.0250   \n",
       "total_emissions_MtCO2e              169.0   116.198352  131.234395     0.1344   \n",
       "\n",
       "                                          25%        50%        75%        max  \n",
       "year                                1896.0000  1938.0000  1980.0000  2022.0000  \n",
       "production_value                      26.7800   294.1827   779.3000  2689.4303  \n",
       "product_emissions_MtCO2               15.3799    63.6150   129.0338   501.6130  \n",
       "flaring_emissions_MtCO2                0.0000     0.0646     1.7422     7.9980  \n",
       "venting_emissions_MtCO2                0.0000     0.4188     1.1094     4.1005  \n",
       "own_fuel_use_emissions_MtCO2           0.0000     0.0000     0.7779     8.2293  \n",
       "fugitive_methane_emissions_MtCO2e      2.1448     7.2107    14.9693    39.7481  \n",
       "fugitive_methane_emissions_MtCH4       0.0766     0.2575     0.5346     1.4196  \n",
       "total_operational_emissions_MtCO2e     2.2339     8.6629    19.9125    52.3273  \n",
       "total_emissions_MtCO2e                17.3642    74.0578   144.2469   538.5495  "
      ]
     },
     "execution_count": 4,
     "metadata": {},
     "output_type": "execute_result"
    }
   ],
   "source": [
    "df.describe().T\n",
    "\n",
    "\n",
    "\n",
    "\n",
    "#                                   count\tmean\t     std\t     min\t    25%\t         50%\t     75%\t     max\n",
    "#            year                   169.0\t1938.000000\t48.930222\t1854.0000\t1896.0000\t1938.0000\t1980.0000\t2022.0000\n",
    "# production_value\t                169.0\t517.610641\t638.228700\t0.2200\t    26.7800   \t294.1827\t779.3000\t2689.4303\n",
    "#product_emissions_MtCO2\t        169.0\t103.311733\t122.626849\t0.0985\t    15.3799\t    63.6150\t    129.0338\t501.6130\n",
    "#flaring_emissions_MtCO2\t        169.0\t1.220998\t2.116210\t0.0000\t    0.0000\t    0.0646\t    1.7422\t    7.9980\n",
    "#venting_emissions_MtCO2\t        169.0\t0.758836\t0.970974\t0.0000\t    0.0000\t    0.4188\t    1.1094\t    4.1005\n",
    "#own_fuel_use_emissions_MtCO2\t    169.0\t0.947757\t1.958714\t0.0000\t    0.0000\t    0.0000\t    0.7779\t    8.2293\n",
    "#fugitive_methane_emissions_MtCO2e  169.0\t9.959031\t9.464944\t0.0183\t    2.1448\t    7.2107\t   14.9693\t    39.7481\n",
    "#fugitive_methane_emissions_MtCH4   169.0\t0.355678\t0.338033\t0.0007\t    0.0766\t    0.2575\t   0.5346\t    1.4196\n",
    "#total_operational_emissions_MtCO2e 169.0\t12.886622\t12.752361\t0.0250\t    2.2339\t    8.6629\t   19.9125\t    52.3273\n",
    "#total_emissions_MtCO2e\t            169.0\t 116.198352\t131.234395\t0.1344\t    17.3642     74.0578\t   144.2469  \t538.5495\n"
   ]
  },
  {
   "cell_type": "code",
   "execution_count": null,
   "id": "4cc1a98f-df13-4236-8841-8040af76ce85",
   "metadata": {},
   "outputs": [],
   "source": [
    "sns.pairplot(data=df);"
   ]
  },
  {
   "cell_type": "code",
   "execution_count": 5,
   "id": "c37e6efa-13dd-45a3-8661-e61f8aff8333",
   "metadata": {},
   "outputs": [
    {
     "data": {
      "text/plain": [
       "Index(['year', 'parent_entity', 'parent_type', 'reporting_entity', 'commodity',\n",
       "       'production_value', 'production_unit', 'product_emissions_MtCO2',\n",
       "       'flaring_emissions_MtCO2', 'venting_emissions_MtCO2',\n",
       "       'own_fuel_use_emissions_MtCO2', 'fugitive_methane_emissions_MtCO2e',\n",
       "       'fugitive_methane_emissions_MtCH4',\n",
       "       'total_operational_emissions_MtCO2e', 'total_emissions_MtCO2e',\n",
       "       'emissions_category'],\n",
       "      dtype='object')"
      ]
     },
     "execution_count": 5,
     "metadata": {},
     "output_type": "execute_result"
    }
   ],
   "source": [
    "df.columns"
   ]
  },
  {
   "cell_type": "code",
   "execution_count": 6,
   "id": "b8311299-732e-454d-9e7f-60cabe7e9c94",
   "metadata": {},
   "outputs": [
    {
     "data": {
      "text/plain": [
       "(<Figure size 800x600 with 4 Axes>,\n",
       " array([[<Axes: >, <Axes: >],\n",
       "        [<Axes: >, <Axes: >]], dtype=object))"
      ]
     },
     "execution_count": 6,
     "metadata": {},
     "output_type": "execute_result"
    },
    {
     "data": {
      "image/png": "[encoded data removed]",
      "text/plain": [
       "<Figure size 800x600 with 4 Axes>"
      ]
     },
     "metadata": {},
     "output_type": "display_data"
    }
   ],
   "source": [
    "plt.subplots(nrows=2, ncols=2, figsize=(8,6))"
   ]
  },
  {
   "cell_type": "code",
   "execution_count": null,
   "id": "a5f03dad-3993-4f63-bb2b-02a6da570c0e",
   "metadata": {},
   "outputs": [],
   "source": [
    "fig,axes=plt.subplots(nrows=2, ncols=2, figsize=(8,6))\n",
    "plt.show()"
   ]
  },
  {
   "cell_type": "code",
   "execution_count": 7,
   "id": "7ad715ca-574a-499f-aa07-c5a7d4ae124a",
   "metadata": {},
   "outputs": [
    {
     "data": {
      "image/png": "[encoded data removed]",
      "text/plain": [
       "<Figure size 800x600 with 4 Axes>"
      ]
     },
     "metadata": {},
     "output_type": "display_data"
    }
   ],
   "source": [
    "# nrows=2: Creates 2 rows of subplots.\n",
    "# ncols=2: Creates 2 columns of subplots.\n",
    "# This results in a total of 4 subplots (2 × 2 = 4).\n",
    "# figsize=(10,8): The entire figure (not individual subplots) is 10 inches wide and 8 inches tall.\n",
    "# ax=axes[0,0]),ax=axes[0,1]),ax=axes[1,0]),ax=axes[1,1]) = places this plot in the top-left position (row 0, column 0),\n",
    "# Placed in the top-right (row 0, column 1),Placed in the bottom-left (row 1, column 0),Placed in the bottom-right (row 1, column 1).\n",
    "\n",
    "fig,axes = plt.subplots(nrows=2, ncols=2, figsize=(8,6))\n",
    "sns.scatterplot(data=df, x='production_value', y='total_emissions_MtCO2e', ax=axes[0,0])\n",
    "sns.scatterplot(data=df, x='fugitive_methane_emissions_MtCH4', y= 'total_emissions_MtCO2e', ax=axes[0,1])\n",
    "sns.scatterplot(data=df, x='product_emissions_MtCO2', y='total_emissions_MtCO2e', ax=axes[1,0])\n",
    "sns.histplot(df['total_emissions_MtCO2e'],  bins = 15, ax=axes[1,1])\n",
    "\n",
    "plt.show()\n",
    " "
   ]
  },
  {
   "cell_type": "markdown",
   "id": "763d50cd-fe8d-4d40-ac3f-9edfdb321240",
   "metadata": {},
   "source": [
    "## Perform EDA"
   ]
  },
  {
   "cell_type": "code",
   "execution_count": 8,
   "id": "04b67cf0-56be-4b2f-b383-f4124e3d29c7",
   "metadata": {},
   "outputs": [
    {
     "data": {
      "text/plain": [
       "year                                  0\n",
       "parent_entity                         0\n",
       "parent_type                           0\n",
       "reporting_entity                      0\n",
       "commodity                             0\n",
       "production_value                      0\n",
       "production_unit                       0\n",
       "product_emissions_MtCO2               0\n",
       "flaring_emissions_MtCO2               0\n",
       "venting_emissions_MtCO2               0\n",
       "own_fuel_use_emissions_MtCO2          0\n",
       "fugitive_methane_emissions_MtCO2e     0\n",
       "fugitive_methane_emissions_MtCH4      0\n",
       "total_operational_emissions_MtCO2e    0\n",
       "total_emissions_MtCO2e                0\n",
       "emissions_category                    0\n",
       "dtype: int64"
      ]
     },
     "execution_count": 8,
     "metadata": {},
     "output_type": "execute_result"
    }
   ],
   "source": [
    "# no EDA to perform in this model as the focus is just on a simple pipeline and how it works...\n",
    "df.isna().sum()\n",
    "\n",
    "\n",
    "#year                                  0\n",
    "#parent_entity                         0\n",
    "#parent_type                           0\n",
    "#reporting_entity                      0\n",
    "#commodity                             0\n",
    "#production_value                      0\n",
    "#production_unit                       0\n",
    "#product_emissions_MtCO2               0\n",
    "#flaring_emissions_MtCO2               0\n",
    "#venting_emissions_MtCO2               0\n",
    "#own_fuel_use_emissions_MtCO2          0\n",
    "#fugitive_methane_emissions_MtCO2e     0\n",
    "#fugitive_methane_emissions_MtCH4      0\n",
    "#total_operational_emissions_MtCO2e    0\n",
    "#total_emissions_MtCO2e                0\n",
    "#emissions_category                    0\n",
    "#dtype: int64"
   ]
  },
  {
   "cell_type": "markdown",
   "id": "09e45120-2188-45fa-a870-0925efc44053",
   "metadata": {},
   "source": [
    "## Prepare the data for Modeling"
   ]
  },
  {
   "cell_type": "code",
   "execution_count": 9,
   "id": "dc63fe53-e0d5-4d49-8292-e5a0aad505c7",
   "metadata": {},
   "outputs": [],
   "source": [
    "# Dropping one column\n",
    "# X = df.drop('Sales', axis =1)\n",
    "# Dropping two columns\n",
    "X = df.drop(['parent_entity', 'parent_type', 'reporting_entity', 'commodity',\n",
    "       'production_unit', 'emissions_category'], axis =1)\n",
    "y = df['total_emissions_MtCO2e']\n",
    "\n"
   ]
  },
  {
   "cell_type": "code",
   "execution_count": 10,
   "id": "944f5a26-1ca9-43ff-852e-ad47c54f5a52",
   "metadata": {},
   "outputs": [
    {
     "data": {
      "text/html": [
       "<div>\n",
       "<style scoped>\n",
       "    .dataframe tbody tr th:only-of-type {\n",
       "        vertical-align: middle;\n",
       "    }\n",
       "\n",
       "    .dataframe tbody tr th {\n",
       "        vertical-align: top;\n",
       "    }\n",
       "\n",
       "    .dataframe thead th {\n",
       "        text-align: right;\n",
       "    }\n",
       "</style>\n",
       "<table border=\"1\" class=\"dataframe\">\n",
       "  <thead>\n",
       "    <tr style=\"text-align: right;\">\n",
       "      <th></th>\n",
       "      <th>year</th>\n",
       "      <th>production_value</th>\n",
       "      <th>product_emissions_MtCO2</th>\n",
       "      <th>flaring_emissions_MtCO2</th>\n",
       "      <th>venting_emissions_MtCO2</th>\n",
       "      <th>own_fuel_use_emissions_MtCO2</th>\n",
       "      <th>fugitive_methane_emissions_MtCO2e</th>\n",
       "      <th>fugitive_methane_emissions_MtCH4</th>\n",
       "      <th>total_operational_emissions_MtCO2e</th>\n",
       "      <th>total_emissions_MtCO2e</th>\n",
       "    </tr>\n",
       "  </thead>\n",
       "  <tbody>\n",
       "    <tr>\n",
       "      <th>0</th>\n",
       "      <td>1854</td>\n",
       "      <td>50.90</td>\n",
       "      <td>92.3401</td>\n",
       "      <td>0.0</td>\n",
       "      <td>0.0</td>\n",
       "      <td>0.0</td>\n",
       "      <td>10.4316</td>\n",
       "      <td>0.3726</td>\n",
       "      <td>10.4316</td>\n",
       "      <td>102.7717</td>\n",
       "    </tr>\n",
       "    <tr>\n",
       "      <th>1</th>\n",
       "      <td>1855</td>\n",
       "      <td>0.90</td>\n",
       "      <td>2.3989</td>\n",
       "      <td>0.0</td>\n",
       "      <td>0.0</td>\n",
       "      <td>0.0</td>\n",
       "      <td>0.2710</td>\n",
       "      <td>0.0097</td>\n",
       "      <td>0.2710</td>\n",
       "      <td>2.6700</td>\n",
       "    </tr>\n",
       "    <tr>\n",
       "      <th>2</th>\n",
       "      <td>1856</td>\n",
       "      <td>48.23</td>\n",
       "      <td>87.4963</td>\n",
       "      <td>0.0</td>\n",
       "      <td>0.0</td>\n",
       "      <td>0.0</td>\n",
       "      <td>9.8844</td>\n",
       "      <td>0.3530</td>\n",
       "      <td>9.8844</td>\n",
       "      <td>97.3807</td>\n",
       "    </tr>\n",
       "  </tbody>\n",
       "</table>\n",
       "</div>"
      ],
      "text/plain": [
       "   year  production_value  product_emissions_MtCO2  flaring_emissions_MtCO2  \\\n",
       "0  1854             50.90                  92.3401                      0.0   \n",
       "1  1855              0.90                   2.3989                      0.0   \n",
       "2  1856             48.23                  87.4963                      0.0   \n",
       "\n",
       "   venting_emissions_MtCO2  own_fuel_use_emissions_MtCO2  \\\n",
       "0                      0.0                           0.0   \n",
       "1                      0.0                           0.0   \n",
       "2                      0.0                           0.0   \n",
       "\n",
       "   fugitive_methane_emissions_MtCO2e  fugitive_methane_emissions_MtCH4  \\\n",
       "0                            10.4316                            0.3726   \n",
       "1                             0.2710                            0.0097   \n",
       "2                             9.8844                            0.3530   \n",
       "\n",
       "   total_operational_emissions_MtCO2e  total_emissions_MtCO2e  \n",
       "0                             10.4316                102.7717  \n",
       "1                              0.2710                  2.6700  \n",
       "2                              9.8844                 97.3807  "
      ]
     },
     "execution_count": 10,
     "metadata": {},
     "output_type": "execute_result"
    }
   ],
   "source": [
    "X.head(3)\n",
    "\n",
    "\n",
    "#   year\tproduction_value\tproduct_emissions_MtCO2\tflaring_emissions_MtCO2\tventing_emissions_MtCO2\town_fuel_use_emissions_MtCO2\tfugitive_methane_emissions_MtCO2e\tfugitive_methane_emissions_MtCH4\ttotal_operational_emissions_MtCO2e\ttotal_emissions_MtCO2e\n",
    "#0\t1854\t          50.90\t                    92.3401\t                   0.0\t                   0.0\t                        0.0\t                              10.4316\t                         0.3726\t                              10.4316\t               102.7717\n",
    "#1\t1855\t          0.90\t                    2.3989\t                   0.0\t                  0.0\t                        0.0\t                              0.2710\t                        0.0097\t                               0.2710\t                2.6700\n",
    "#2\t1856\t         48.23\t                    87.4963\t                   0.0\t                  0.0\t                        0.0\t                              9.8844\t                        0.3530\t                              9.8844\t                97.3807\n",
    "\n"
   ]
  },
  {
   "cell_type": "code",
   "execution_count": 11,
   "id": "30dc0f56-b540-4da0-8206-5b8613af4168",
   "metadata": {},
   "outputs": [
    {
     "data": {
      "text/plain": [
       "(array([102.7717,   2.67  ,  97.3807,  17.1174, 106.6227]),\n",
       " 0    102.7717\n",
       " 1      2.6700\n",
       " 2     97.3807\n",
       " 3     17.1174\n",
       " 4    106.6227\n",
       " Name: total_emissions_MtCO2e, dtype: float64)"
      ]
     },
     "execution_count": 11,
     "metadata": {},
     "output_type": "execute_result"
    }
   ],
   "source": [
    "#  Predicting against all data  -basically just drawing a line as we have no test data\n",
    "full_md1 = LinearRegression()\n",
    "full_md1.fit(X,y)\n",
    "y_hat = full_md1.predict(X)\n",
    "y_hat[:5], y[:5]\n",
    "\n",
    "\n",
    "\n",
    "\n",
    "#(array([102.7717,   2.67  ,  97.3807,  17.1174, 106.6227]),\n",
    "# 0    102.7717\n",
    "# 1      2.6700\n",
    "# 2     97.3807\n",
    "# 3     17.1174\n",
    "# 4    106.6227\n",
    "# Name: total_emissions_MtCO2e, dtype: float64)"
   ]
  },
  {
   "cell_type": "code",
   "execution_count": 12,
   "id": "835cd608-90b6-4e92-8464-9fe63f087a2a",
   "metadata": {},
   "outputs": [
    {
     "data": {
      "image/png": "[encoded data removed]",
      "text/plain": [
       "<Figure size 640x480 with 1 Axes>"
      ]
     },
     "metadata": {},
     "output_type": "display_data"
    }
   ],
   "source": [
    "y.plot(kind = 'hist');"
   ]
  },
  {
   "cell_type": "markdown",
   "id": "fc8c14b9-25f0-4c76-a838-7af12aaaeeb9",
   "metadata": {},
   "source": [
    "## Establish the base units to compare the resultant metrics  ...."
   ]
  },
  {
   "cell_type": "code",
   "execution_count": 13,
   "id": "47bdd43b-7f81-4411-8a1f-fa57470a6202",
   "metadata": {},
   "outputs": [
    {
     "data": {
      "text/plain": [
       "(np.float64(116.19835207100593),\n",
       " np.float64(74.0578),\n",
       " np.float64(0.1344),\n",
       " np.float64(538.5495),\n",
       " np.float64(538.4150999999999))"
      ]
     },
     "execution_count": 13,
     "metadata": {},
     "output_type": "execute_result"
    }
   ],
   "source": [
    "df['total_emissions_MtCO2e'].mean(),df['total_emissions_MtCO2e'].median(), df['total_emissions_MtCO2e'].min(),df['total_emissions_MtCO2e'].max(),df['total_emissions_MtCO2e'].max()-df['total_emissions_MtCO2e'].min()\n",
    "\n",
    "\n",
    "#(np.float64(116.19835207100593),\n",
    "#np.float64(74.0578),\n",
    "# np.float64(0.1344),\n",
    "# np.float64(538.5495),\n",
    "# np.float64(538.4150999999999))"
   ]
  },
  {
   "cell_type": "code",
   "execution_count": 14,
   "id": "a57feba1-ad9f-498f-a62d-ee8a25efabb1",
   "metadata": {},
   "outputs": [
    {
     "data": {
      "text/plain": [
       "(np.float64(116.19835207100593),\n",
       " np.float64(74.0578),\n",
       " np.float64(0.1344),\n",
       " np.float64(538.5495),\n",
       " np.float64(538.4150999999999))"
      ]
     },
     "execution_count": 14,
     "metadata": {},
     "output_type": "execute_result"
    }
   ],
   "source": [
    "\n",
    "   # OR\n",
    "ymin = np.min(df['total_emissions_MtCO2e'])\n",
    "ymax = np.max(df['total_emissions_MtCO2e'])\n",
    "yrange = (np.max(df['total_emissions_MtCO2e']) - np.min(df['total_emissions_MtCO2e']))\n",
    "ymean= np.mean(df['total_emissions_MtCO2e'])\n",
    "ymedian=  np.median(df['total_emissions_MtCO2e'])\n",
    "\n",
    "\n",
    "ymean, ymedian, ymin,ymax,yrange\n",
    "\n",
    "\n",
    "#(np.float64(116.19835207100593),\n",
    "#np.float64(74.0578),\n",
    "# np.float64(0.1344),\n",
    "# np.float64(538.5495),\n",
    "# np.float64(538.4150999999999))"
   ]
  },
  {
   "cell_type": "code",
   "execution_count": 15,
   "id": "b2630b37-92ca-4e6e-872e-dcc24d21bd43",
   "metadata": {},
   "outputs": [
    {
     "data": {
      "text/plain": [
       "(np.float64(116.19835207100593),\n",
       " np.float64(74.0578),\n",
       " np.float64(0.1344),\n",
       " np.float64(538.5495),\n",
       " np.float64(538.4150999999999))"
      ]
     },
     "execution_count": 15,
     "metadata": {},
     "output_type": "execute_result"
    }
   ],
   "source": [
    "   # OR\n",
    "ymin = np.min(y)\n",
    "ymax = np.max(y)\n",
    "yrange = (np.max(y) - np.min(y))\n",
    "ymean= np.mean(y)\n",
    "ymedian=  np.median(y)\n",
    "\n",
    "ymean, ymedian, ymin,ymax,yrange\n",
    "\n",
    "\n",
    "\n",
    "#(np.float64(116.19835207100593),\n",
    "#np.float64(74.0578),\n",
    "# np.float64(0.1344),\n",
    "# np.float64(538.5495),\n",
    "# np.float64(538.4150999999999))"
   ]
  },
  {
   "cell_type": "code",
   "execution_count": 16,
   "id": "a3b2b39f-41fe-41e7-ae92-73b652cdacd3",
   "metadata": {},
   "outputs": [
    {
     "name": "stdout",
     "output_type": "stream",
     "text": [
      "MSE: 0.00\n"
     ]
    }
   ],
   "source": [
    "# how far off on avg?\n",
    "mse = mean_squared_error(y, y_hat)\n",
    "print(f\"MSE: {mse:.2f}\")\n",
    "\n",
    "\n",
    "# MSE: 0.00"
   ]
  },
  {
   "cell_type": "code",
   "execution_count": 17,
   "id": "aa93ffa5-ffa3-4305-ad61-37e2b68bbac9",
   "metadata": {},
   "outputs": [],
   "source": [
    "y_true = y"
   ]
  },
  {
   "cell_type": "code",
   "execution_count": 18,
   "id": "7229949e-246c-4a2f-b57a-039fd3e84a17",
   "metadata": {},
   "outputs": [
    {
     "data": {
      "text/plain": [
       "np.float64(1.2343280474424356e-12)"
      ]
     },
     "execution_count": 18,
     "metadata": {},
     "output_type": "execute_result"
    }
   ],
   "source": [
    "# MAPE - mean absolute percentage error - another way to calc as you see above... lower is better for accuracy\n",
    "# np.abs((y_true - y_pred) / y_true)\n",
    "np.mean(np.abs((y - y_hat) / y)) * 100\n",
    "\n",
    "\n",
    "# np.float64(1.2343280474424356e-12)"
   ]
  },
  {
   "cell_type": "code",
   "execution_count": 19,
   "id": "0d0adb05-7ddb-4237-97d7-840afd70623c",
   "metadata": {},
   "outputs": [
    {
     "data": {
      "text/plain": [
       "(6.442038781513226e-27, np.float64(8.026231233594772e-14))"
      ]
     },
     "execution_count": 19,
     "metadata": {},
     "output_type": "execute_result"
    }
   ],
   "source": [
    "# this is reported in squared units, use this for your rmse calc...\n",
    "mse = mean_squared_error(y, y_hat)\n",
    "mse, np.sqrt(mse)\n",
    "\n",
    "# (6.442038781513226e-27, np.float64(8.026231233594772e-14))"
   ]
  },
  {
   "cell_type": "code",
   "execution_count": 20,
   "id": "71824d5d-c191-4c01-afe3-d0d86fc0f8ce",
   "metadata": {},
   "outputs": [
    {
     "name": "stdout",
     "output_type": "stream",
     "text": [
      "RMSE: 0.00\n"
     ]
    }
   ],
   "source": [
    "#  now take into account a few points being far off ....\n",
    "# RMSE - analogous to std of your predictions...\n",
    "\n",
    "rmse = (mean_squared_error(y, y_hat)/y.mean())* 100\n",
    "print(f\"RMSE: {rmse:.2f}\")\n",
    "\n",
    "\n",
    "# RMSE: 0.00"
   ]
  },
  {
   "cell_type": "markdown",
   "id": "7c0eca73-d689-4ebc-b693-6829aff13e05",
   "metadata": {},
   "source": [
    "## R² Score (Coefficient of Determination)"
   ]
  },
  {
   "cell_type": "code",
   "execution_count": 21,
   "id": "d5443cb4-e89d-4585-a71e-8c3cbd17ae00",
   "metadata": {},
   "outputs": [
    {
     "name": "stdout",
     "output_type": "stream",
     "text": [
      "R² Score: 1.00\n"
     ]
    }
   ],
   "source": [
    "# coffiecient of determination\n",
    "r2 = r2_score(y, y_hat)\n",
    "print(f\"R² Score: {r2:.2f}\")\n",
    "\n",
    "\n",
    "# R² Score: 1.00"
   ]
  },
  {
   "cell_type": "code",
   "execution_count": 22,
   "id": "ae4d6ce9-e4ef-45dd-8907-3922389f5bbf",
   "metadata": {},
   "outputs": [
    {
     "name": "stdout",
     "output_type": "stream",
     "text": [
      "100.00% of the variability in the dependent variable is explained by the independent variables.\n"
     ]
    }
   ],
   "source": [
    "print(f\"{r2_score(y, y_hat)* 100:.2f}% of the variability in the dependent variable is explained by the independent variables.\") \n",
    "\n",
    "\n",
    "# 100.00% of the variability in the dependent variable is explained by the independent variables."
   ]
  },
  {
   "cell_type": "markdown",
   "id": "0b7bb8f1-3a9a-4e98-8d08-db425c04577f",
   "metadata": {},
   "source": [
    "### Adjusted R-squared Calculation\n",
    "\n",
    "The formula for adjusted R-squared is:\n",
    "\n",
    "$$\\text{adj\\_rsq} = 1 - (1 - r^2) \\times \\frac{(n - 1)}{(n - k - 1)}$$\n",
    "\n",
    "**Explanation of the Values:**\n",
    "\n",
    "- **adj_rsq**: Adjusted R-squared. This is the modified version of R-squared that adjusts for the number of predictors in the model.\n",
    "- **r^2**: R-squared. This is the coefficient of determination that measures the proportion of the variance in the dependent variable that is predictable from the independent variables.\n",
    "- **n**: Total number of observations or data points in the dataset.\n",
    "- **k**: Number of independent variables or predictors in the model.\n",
    "\n",
    "### Why Use Adjusted R-Squared?\n",
    "\n",
    "Adjusted R-squared is used to provide a more accurate measure of the goodness-of-fit of a regression model, especially when multiple independent variables are involved. It takes into account the number of predictors and penalizes for adding variables that do not contribute to the model's explanatory power.\n",
    "\n",
    "Here's how each component plays a role:\n",
    "- **\\( 1 - R^2 \\)**: Calculates the unexplained variance (i.e., the proportion of variance that is not explained by the model).\n",
    "- **\\( \\frac{(n - 1)}{(n - k - 1)} \\)**: A scaling factor that adjusts for the number of predictors relative to the number of observations.\n",
    "\n",
    "In essence, adjusted R-squared adjusts for the complexity of the model, ensuring that adding more variables doesn’t artificially inflate the measure of fit.\n"
   ]
  },
  {
   "cell_type": "code",
   "execution_count": 23,
   "id": "a58910a9-56dd-44cc-b042-a6ed0bb4bac3",
   "metadata": {},
   "outputs": [
    {
     "data": {
      "text/plain": [
       "1.0"
      ]
     },
     "execution_count": 23,
     "metadata": {},
     "output_type": "execute_result"
    }
   ],
   "source": [
    "# adjusted r-square - adjusts for the number of predictors in a model - a better measure when there are many predictor features\n",
    "r_squ = r2_score(y,y_hat)\n",
    "n = len(y) \n",
    "k = len(X.columns)# number of predictors\n",
    "adj_rsq = 1 - (1 - r_squ) * (n - 1) / (n - k - 1)\n",
    "adj_rsq\n",
    "\n",
    "# 1.0"
   ]
  },
  {
   "cell_type": "code",
   "execution_count": 24,
   "id": "085b41dc-8f92-4dae-8430-1d94786c24cb",
   "metadata": {},
   "outputs": [
    {
     "name": "stdout",
     "output_type": "stream",
     "text": [
      "The explained variance score, 1.0 focusses on the variance of the errors.\n"
     ]
    }
   ],
   "source": [
    "evs = explained_variance_score(y, y_hat)  # usually similar to r-squared but can be negative if model is worse than a simple mean prediction\n",
    "print(f'The explained variance score, {evs:.3} focusses on the variance of the errors.')\n",
    "\n",
    "# The explained variance score, 1.0 focusses on the variance of the errors."
   ]
  },
  {
   "cell_type": "code",
   "execution_count": 25,
   "id": "4a7c5bb6-7d1d-4538-ba36-b73603b0ec22",
   "metadata": {},
   "outputs": [],
   "source": [
    "# Create a function that return the adjusted r_square -call it\n",
    "# 'adj_r2'(float r2, int len,int k)'\n",
    "\n",
    "def adj_r2(r2,n,k):\n",
    "    \"\"\"\n",
    "    Takes in the r-squared(r2), lenght of y (n), and width of X (k)\n",
    "    returns the adjusted r-square\n",
    "    \"\"\"\n",
    "    return 1 - (1 - r2) * (n - 1) / (n - k - 1)\n",
    "\n"
   ]
  },
  {
   "cell_type": "code",
   "execution_count": 26,
   "id": "3e13380b-cb41-47fc-a1b4-7c2c6f81c3e9",
   "metadata": {},
   "outputs": [
    {
     "data": {
      "text/plain": [
       "1.0"
      ]
     },
     "execution_count": 26,
     "metadata": {},
     "output_type": "execute_result"
    }
   ],
   "source": [
    "adj_r2(r2_score(y,y_hat), len(y), len(X.columns))\n",
    "\n",
    "# 1.0"
   ]
  },
  {
   "cell_type": "code",
   "execution_count": 27,
   "id": "29afcd67-b022-4e1b-b831-8131135b74f8",
   "metadata": {},
   "outputs": [
    {
     "data": {
      "text/plain": [
       "0      102.7717\n",
       "1        2.6700\n",
       "2       97.3807\n",
       "3       17.1174\n",
       "4      106.6227\n",
       "         ...   \n",
       "164    426.1241\n",
       "165    139.8350\n",
       "166    436.6618\n",
       "167    143.2930\n",
       "168    473.0503\n",
       "Name: total_emissions_MtCO2e, Length: 169, dtype: float64"
      ]
     },
     "execution_count": 27,
     "metadata": {},
     "output_type": "execute_result"
    }
   ],
   "source": [
    "y\n",
    "\n",
    "#0      102.7717\n",
    "#1        2.6700\n",
    "#2       97.3807\n",
    "#3       17.1174\n",
    "#4      106.6227\n",
    "#         ...   \n",
    "#164    426.1241\n",
    "#165    139.8350\n",
    "#166    436.6618\n",
    "#167    143.2930\n",
    "#168    473.0503\n",
    "#Name: total_emissions_MtCO2e, Length: 169, dtype: float64\n"
   ]
  },
  {
   "cell_type": "code",
   "execution_count": 28,
   "id": "db483a44-0862-429a-82e6-1633197d2db2",
   "metadata": {},
   "outputs": [
    {
     "data": {
      "text/plain": [
       "1.0"
      ]
     },
     "execution_count": 28,
     "metadata": {},
     "output_type": "execute_result"
    }
   ],
   "source": [
    "# Using myfuns created\n",
    "myfuns.adj_r2(r2_score(y,y_hat), len(y), len(X.columns))\n",
    "\n",
    "# 1.0"
   ]
  },
  {
   "cell_type": "markdown",
   "id": "64d5fa4e-7870-4074-89dc-579ea0ebd4f0",
   "metadata": {},
   "source": [
    "## Split the data into train and test sets"
   ]
  },
  {
   "cell_type": "code",
   "execution_count": 29,
   "id": "cf0d7f92-e525-401a-8d91-880fe4a303df",
   "metadata": {},
   "outputs": [],
   "source": [
    "X_train, X_test, y_train, y_test = train_test_split(X, y, test_size=0.3, random_state=42)"
   ]
  },
  {
   "cell_type": "code",
   "execution_count": 30,
   "id": "bea55f17-3fbe-47d3-bebb-1b601765f644",
   "metadata": {},
   "outputs": [
    {
     "data": {
      "text/plain": [
       "((118, 10), (51, 10), (118,), (51,))"
      ]
     },
     "execution_count": 30,
     "metadata": {},
     "output_type": "execute_result"
    }
   ],
   "source": [
    "X_train.shape, X_test.shape, y_train.shape, y_test.shape\n",
    "\n",
    "\n",
    "# ((118, 10), (51, 10), (118,), (51,))"
   ]
  },
  {
   "cell_type": "code",
   "execution_count": 31,
   "id": "cb89e345-b3eb-4a6a-8dfb-26727319d2f2",
   "metadata": {},
   "outputs": [
    {
     "data": {
      "text/html": [
       "<div>\n",
       "<style scoped>\n",
       "    .dataframe tbody tr th:only-of-type {\n",
       "        vertical-align: middle;\n",
       "    }\n",
       "\n",
       "    .dataframe tbody tr th {\n",
       "        vertical-align: top;\n",
       "    }\n",
       "\n",
       "    .dataframe thead th {\n",
       "        text-align: right;\n",
       "    }\n",
       "</style>\n",
       "<table border=\"1\" class=\"dataframe\">\n",
       "  <thead>\n",
       "    <tr style=\"text-align: right;\">\n",
       "      <th></th>\n",
       "      <th>year</th>\n",
       "      <th>production_value</th>\n",
       "      <th>product_emissions_MtCO2</th>\n",
       "      <th>flaring_emissions_MtCO2</th>\n",
       "      <th>venting_emissions_MtCO2</th>\n",
       "      <th>own_fuel_use_emissions_MtCO2</th>\n",
       "      <th>fugitive_methane_emissions_MtCO2e</th>\n",
       "      <th>fugitive_methane_emissions_MtCH4</th>\n",
       "      <th>total_operational_emissions_MtCO2e</th>\n",
       "      <th>total_emissions_MtCO2e</th>\n",
       "    </tr>\n",
       "  </thead>\n",
       "  <tbody>\n",
       "    <tr>\n",
       "      <th>160</th>\n",
       "      <td>2014</td>\n",
       "      <td>996.9280</td>\n",
       "      <td>370.2866</td>\n",
       "      <td>5.9041</td>\n",
       "      <td>1.4192</td>\n",
       "      <td>0.0000</td>\n",
       "      <td>19.9430</td>\n",
       "      <td>0.7123</td>\n",
       "      <td>27.2663</td>\n",
       "      <td>397.5529</td>\n",
       "    </tr>\n",
       "    <tr>\n",
       "      <th>96</th>\n",
       "      <td>1950</td>\n",
       "      <td>586.6791</td>\n",
       "      <td>31.3485</td>\n",
       "      <td>0.0544</td>\n",
       "      <td>0.8945</td>\n",
       "      <td>1.7952</td>\n",
       "      <td>8.6708</td>\n",
       "      <td>0.3097</td>\n",
       "      <td>11.4148</td>\n",
       "      <td>42.7633</td>\n",
       "    </tr>\n",
       "    <tr>\n",
       "      <th>11</th>\n",
       "      <td>1865</td>\n",
       "      <td>1279.5331</td>\n",
       "      <td>68.3703</td>\n",
       "      <td>0.1187</td>\n",
       "      <td>1.9509</td>\n",
       "      <td>3.9152</td>\n",
       "      <td>18.9107</td>\n",
       "      <td>0.6754</td>\n",
       "      <td>24.8954</td>\n",
       "      <td>93.2657</td>\n",
       "    </tr>\n",
       "  </tbody>\n",
       "</table>\n",
       "</div>"
      ],
      "text/plain": [
       "     year  production_value  product_emissions_MtCO2  flaring_emissions_MtCO2  \\\n",
       "160  2014          996.9280                 370.2866                   5.9041   \n",
       "96   1950          586.6791                  31.3485                   0.0544   \n",
       "11   1865         1279.5331                  68.3703                   0.1187   \n",
       "\n",
       "     venting_emissions_MtCO2  own_fuel_use_emissions_MtCO2  \\\n",
       "160                   1.4192                        0.0000   \n",
       "96                    0.8945                        1.7952   \n",
       "11                    1.9509                        3.9152   \n",
       "\n",
       "     fugitive_methane_emissions_MtCO2e  fugitive_methane_emissions_MtCH4  \\\n",
       "160                            19.9430                            0.7123   \n",
       "96                              8.6708                            0.3097   \n",
       "11                             18.9107                            0.6754   \n",
       "\n",
       "     total_operational_emissions_MtCO2e  total_emissions_MtCO2e  \n",
       "160                             27.2663                397.5529  \n",
       "96                              11.4148                 42.7633  \n",
       "11                              24.8954                 93.2657  "
      ]
     },
     "execution_count": 31,
     "metadata": {},
     "output_type": "execute_result"
    }
   ],
   "source": [
    "X_train.head(3)\n",
    "\n",
    "\n",
    "\n",
    "\n",
    "#\t   year\t   production_value\t  product_emissions_MtCO2\tflaring_emissions_MtCO2\tventing_emissions_MtCO2\town_fuel_use_emissions_MtCO2\tfugitive_methane_emissions_MtCO2e\tfugitive_methane_emissions_MtCH4\ttotal_operational_emissions_MtCO2e\ttotal_emissions_MtCO2e\n",
    "#160\t2014\t     996.9280\t               370.2866                 \t5.9041\t                 1.4192\t                      0.0000\t                         19.9430\t                         0.7123\t                                27.2663\t            397.5529\n",
    "#96\t   1950         586.6791\t                31.3485\t                    0.0544\t                 0.8945\t                      1.7952\t                         8.6708                          \t 0.3097\t                                11.4148\t            42.7633\n",
    "#11\t   1865        \t1279.5331\t               68.3703\t                    0.1187                   1.9509                    \t  3.9152\t                         18.9107\t                         0.6754                                 24.8954\t            93.2657\n"
   ]
  },
  {
   "cell_type": "markdown",
   "id": "0cbb6f89-debc-442c-939f-c6e12d5eeb46",
   "metadata": {},
   "source": [
    "## Linear Regression"
   ]
  },
  {
   "cell_type": "code",
   "execution_count": 32,
   "id": "82164851-dbe2-47e9-8229-440def2bc776",
   "metadata": {},
   "outputs": [],
   "source": [
    "# Initialize the logistic regression model\n",
    "md1 = LinearRegression()\n"
   ]
  },
  {
   "cell_type": "code",
   "execution_count": 33,
   "id": "9686e0ea-8e7d-40ff-a31b-f2bd1c02ab8c",
   "metadata": {},
   "outputs": [
    {
     "data": {
      "text/html": [
       "<style>#sk-container-id-1 {\n",
       "  /* Definition of color scheme common for light and dark mode */\n",
       "  --sklearn-color-text: #000;\n",
       "  --sklearn-color-text-muted: #666;\n",
       "  --sklearn-color-line: gray;\n",
       "  /* Definition of color scheme for unfitted estimators */\n",
       "  --sklearn-color-unfitted-level-0: #fff5e6;\n",
       "  --sklearn-color-unfitted-level-1: #f6e4d2;\n",
       "  --sklearn-color-unfitted-level-2: #ffe0b3;\n",
       "  --sklearn-color-unfitted-level-3: chocolate;\n",
       "  /* Definition of color scheme for fitted estimators */\n",
       "  --sklearn-color-fitted-level-0: #f0f8ff;\n",
       "  --sklearn-color-fitted-level-1: #d4ebff;\n",
       "  --sklearn-color-fitted-level-2: #b3dbfd;\n",
       "  --sklearn-color-fitted-level-3: cornflowerblue;\n",
       "\n",
       "  /* Specific color for light theme */\n",
       "  --sklearn-color-text-on-default-background: var(--sg-text-color, var(--theme-code-foreground, var(--jp-content-font-color1, black)));\n",
       "  --sklearn-color-background: var(--sg-background-color, var(--theme-background, var(--jp-layout-color0, white)));\n",
       "  --sklearn-color-border-box: var(--sg-text-color, var(--theme-code-foreground, var(--jp-content-font-color1, black)));\n",
       "  --sklearn-color-icon: #696969;\n",
       "\n",
       "  @media (prefers-color-scheme: dark) {\n",
       "    /* Redefinition of color scheme for dark theme */\n",
       "    --sklearn-color-text-on-default-background: var(--sg-text-color, var(--theme-code-foreground, var(--jp-content-font-color1, white)));\n",
       "    --sklearn-color-background: var(--sg-background-color, var(--theme-background, var(--jp-layout-color0, #111)));\n",
       "    --sklearn-color-border-box: var(--sg-text-color, var(--theme-code-foreground, var(--jp-content-font-color1, white)));\n",
       "    --sklearn-color-icon: #878787;\n",
       "  }\n",
       "}\n",
       "\n",
       "#sk-container-id-1 {\n",
       "  color: var(--sklearn-color-text);\n",
       "}\n",
       "\n",
       "#sk-container-id-1 pre {\n",
       "  padding: 0;\n",
       "}\n",
       "\n",
       "#sk-container-id-1 input.sk-hidden--visually {\n",
       "  border: 0;\n",
       "  clip: rect(1px 1px 1px 1px);\n",
       "  clip: rect(1px, 1px, 1px, 1px);\n",
       "  height: 1px;\n",
       "  margin: -1px;\n",
       "  overflow: hidden;\n",
       "  padding: 0;\n",
       "  position: absolute;\n",
       "  width: 1px;\n",
       "}\n",
       "\n",
       "#sk-container-id-1 div.sk-dashed-wrapped {\n",
       "  border: 1px dashed var(--sklearn-color-line);\n",
       "  margin: 0 0.4em 0.5em 0.4em;\n",
       "  box-sizing: border-box;\n",
       "  padding-bottom: 0.4em;\n",
       "  background-color: var(--sklearn-color-background);\n",
       "}\n",
       "\n",
       "#sk-container-id-1 div.sk-container {\n",
       "  /* jupyter's `normalize.less` sets `[hidden] { display: none; }`\n",
       "     but bootstrap.min.css set `[hidden] { display: none !important; }`\n",
       "     so we also need the `!important` here to be able to override the\n",
       "     default hidden behavior on the sphinx rendered scikit-learn.org.\n",
       "     See: https://github.com/scikit-learn/scikit-learn/issues/21755 */\n",
       "  display: inline-block !important;\n",
       "  position: relative;\n",
       "}\n",
       "\n",
       "#sk-container-id-1 div.sk-text-repr-fallback {\n",
       "  display: none;\n",
       "}\n",
       "\n",
       "div.sk-parallel-item,\n",
       "div.sk-serial,\n",
       "div.sk-item {\n",
       "  /* draw centered vertical line to link estimators */\n",
       "  background-image: linear-gradient(var(--sklearn-color-text-on-default-background), var(--sklearn-color-text-on-default-background));\n",
       "  background-size: 2px 100%;\n",
       "  background-repeat: no-repeat;\n",
       "  background-position: center center;\n",
       "}\n",
       "\n",
       "/* Parallel-specific style estimator block */\n",
       "\n",
       "#sk-container-id-1 div.sk-parallel-item::after {\n",
       "  content: \"\";\n",
       "  width: 100%;\n",
       "  border-bottom: 2px solid var(--sklearn-color-text-on-default-background);\n",
       "  flex-grow: 1;\n",
       "}\n",
       "\n",
       "#sk-container-id-1 div.sk-parallel {\n",
       "  display: flex;\n",
       "  align-items: stretch;\n",
       "  justify-content: center;\n",
       "  background-color: var(--sklearn-color-background);\n",
       "  position: relative;\n",
       "}\n",
       "\n",
       "#sk-container-id-1 div.sk-parallel-item {\n",
       "  display: flex;\n",
       "  flex-direction: column;\n",
       "}\n",
       "\n",
       "#sk-container-id-1 div.sk-parallel-item:first-child::after {\n",
       "  align-self: flex-end;\n",
       "  width: 50%;\n",
       "}\n",
       "\n",
       "#sk-container-id-1 div.sk-parallel-item:last-child::after {\n",
       "  align-self: flex-start;\n",
       "  width: 50%;\n",
       "}\n",
       "\n",
       "#sk-container-id-1 div.sk-parallel-item:only-child::after {\n",
       "  width: 0;\n",
       "}\n",
       "\n",
       "/* Serial-specific style estimator block */\n",
       "\n",
       "#sk-container-id-1 div.sk-serial {\n",
       "  display: flex;\n",
       "  flex-direction: column;\n",
       "  align-items: center;\n",
       "  background-color: var(--sklearn-color-background);\n",
       "  padding-right: 1em;\n",
       "  padding-left: 1em;\n",
       "}\n",
       "\n",
       "\n",
       "/* Toggleable style: style used for estimator/Pipeline/ColumnTransformer box that is\n",
       "clickable and can be expanded/collapsed.\n",
       "- Pipeline and ColumnTransformer use this feature and define the default style\n",
       "- Estimators will overwrite some part of the style using the `sk-estimator` class\n",
       "*/\n",
       "\n",
       "/* Pipeline and ColumnTransformer style (default) */\n",
       "\n",
       "#sk-container-id-1 div.sk-toggleable {\n",
       "  /* Default theme specific background. It is overwritten whether we have a\n",
       "  specific estimator or a Pipeline/ColumnTransformer */\n",
       "  background-color: var(--sklearn-color-background);\n",
       "}\n",
       "\n",
       "/* Toggleable label */\n",
       "#sk-container-id-1 label.sk-toggleable__label {\n",
       "  cursor: pointer;\n",
       "  display: flex;\n",
       "  width: 100%;\n",
       "  margin-bottom: 0;\n",
       "  padding: 0.5em;\n",
       "  box-sizing: border-box;\n",
       "  text-align: center;\n",
       "  align-items: start;\n",
       "  justify-content: space-between;\n",
       "  gap: 0.5em;\n",
       "}\n",
       "\n",
       "#sk-container-id-1 label.sk-toggleable__label .caption {\n",
       "  font-size: 0.6rem;\n",
       "  font-weight: lighter;\n",
       "  color: var(--sklearn-color-text-muted);\n",
       "}\n",
       "\n",
       "#sk-container-id-1 label.sk-toggleable__label-arrow:before {\n",
       "  /* Arrow on the left of the label */\n",
       "  content: \"▸\";\n",
       "  float: left;\n",
       "  margin-right: 0.25em;\n",
       "  color: var(--sklearn-color-icon);\n",
       "}\n",
       "\n",
       "#sk-container-id-1 label.sk-toggleable__label-arrow:hover:before {\n",
       "  color: var(--sklearn-color-text);\n",
       "}\n",
       "\n",
       "/* Toggleable content - dropdown */\n",
       "\n",
       "#sk-container-id-1 div.sk-toggleable__content {\n",
       "  max-height: 0;\n",
       "  max-width: 0;\n",
       "  overflow: hidden;\n",
       "  text-align: left;\n",
       "  /* unfitted */\n",
       "  background-color: var(--sklearn-color-unfitted-level-0);\n",
       "}\n",
       "\n",
       "#sk-container-id-1 div.sk-toggleable__content.fitted {\n",
       "  /* fitted */\n",
       "  background-color: var(--sklearn-color-fitted-level-0);\n",
       "}\n",
       "\n",
       "#sk-container-id-1 div.sk-toggleable__content pre {\n",
       "  margin: 0.2em;\n",
       "  border-radius: 0.25em;\n",
       "  color: var(--sklearn-color-text);\n",
       "  /* unfitted */\n",
       "  background-color: var(--sklearn-color-unfitted-level-0);\n",
       "}\n",
       "\n",
       "#sk-container-id-1 div.sk-toggleable__content.fitted pre {\n",
       "  /* unfitted */\n",
       "  background-color: var(--sklearn-color-fitted-level-0);\n",
       "}\n",
       "\n",
       "#sk-container-id-1 input.sk-toggleable__control:checked~div.sk-toggleable__content {\n",
       "  /* Expand drop-down */\n",
       "  max-height: 200px;\n",
       "  max-width: 100%;\n",
       "  overflow: auto;\n",
       "}\n",
       "\n",
       "#sk-container-id-1 input.sk-toggleable__control:checked~label.sk-toggleable__label-arrow:before {\n",
       "  content: \"▾\";\n",
       "}\n",
       "\n",
       "/* Pipeline/ColumnTransformer-specific style */\n",
       "\n",
       "#sk-container-id-1 div.sk-label input.sk-toggleable__control:checked~label.sk-toggleable__label {\n",
       "  color: var(--sklearn-color-text);\n",
       "  background-color: var(--sklearn-color-unfitted-level-2);\n",
       "}\n",
       "\n",
       "#sk-container-id-1 div.sk-label.fitted input.sk-toggleable__control:checked~label.sk-toggleable__label {\n",
       "  background-color: var(--sklearn-color-fitted-level-2);\n",
       "}\n",
       "\n",
       "/* Estimator-specific style */\n",
       "\n",
       "/* Colorize estimator box */\n",
       "#sk-container-id-1 div.sk-estimator input.sk-toggleable__control:checked~label.sk-toggleable__label {\n",
       "  /* unfitted */\n",
       "  background-color: var(--sklearn-color-unfitted-level-2);\n",
       "}\n",
       "\n",
       "#sk-container-id-1 div.sk-estimator.fitted input.sk-toggleable__control:checked~label.sk-toggleable__label {\n",
       "  /* fitted */\n",
       "  background-color: var(--sklearn-color-fitted-level-2);\n",
       "}\n",
       "\n",
       "#sk-container-id-1 div.sk-label label.sk-toggleable__label,\n",
       "#sk-container-id-1 div.sk-label label {\n",
       "  /* The background is the default theme color */\n",
       "  color: var(--sklearn-color-text-on-default-background);\n",
       "}\n",
       "\n",
       "/* On hover, darken the color of the background */\n",
       "#sk-container-id-1 div.sk-label:hover label.sk-toggleable__label {\n",
       "  color: var(--sklearn-color-text);\n",
       "  background-color: var(--sklearn-color-unfitted-level-2);\n",
       "}\n",
       "\n",
       "/* Label box, darken color on hover, fitted */\n",
       "#sk-container-id-1 div.sk-label.fitted:hover label.sk-toggleable__label.fitted {\n",
       "  color: var(--sklearn-color-text);\n",
       "  background-color: var(--sklearn-color-fitted-level-2);\n",
       "}\n",
       "\n",
       "/* Estimator label */\n",
       "\n",
       "#sk-container-id-1 div.sk-label label {\n",
       "  font-family: monospace;\n",
       "  font-weight: bold;\n",
       "  display: inline-block;\n",
       "  line-height: 1.2em;\n",
       "}\n",
       "\n",
       "#sk-container-id-1 div.sk-label-container {\n",
       "  text-align: center;\n",
       "}\n",
       "\n",
       "/* Estimator-specific */\n",
       "#sk-container-id-1 div.sk-estimator {\n",
       "  font-family: monospace;\n",
       "  border: 1px dotted var(--sklearn-color-border-box);\n",
       "  border-radius: 0.25em;\n",
       "  box-sizing: border-box;\n",
       "  margin-bottom: 0.5em;\n",
       "  /* unfitted */\n",
       "  background-color: var(--sklearn-color-unfitted-level-0);\n",
       "}\n",
       "\n",
       "#sk-container-id-1 div.sk-estimator.fitted {\n",
       "  /* fitted */\n",
       "  background-color: var(--sklearn-color-fitted-level-0);\n",
       "}\n",
       "\n",
       "/* on hover */\n",
       "#sk-container-id-1 div.sk-estimator:hover {\n",
       "  /* unfitted */\n",
       "  background-color: var(--sklearn-color-unfitted-level-2);\n",
       "}\n",
       "\n",
       "#sk-container-id-1 div.sk-estimator.fitted:hover {\n",
       "  /* fitted */\n",
       "  background-color: var(--sklearn-color-fitted-level-2);\n",
       "}\n",
       "\n",
       "/* Specification for estimator info (e.g. \"i\" and \"?\") */\n",
       "\n",
       "/* Common style for \"i\" and \"?\" */\n",
       "\n",
       ".sk-estimator-doc-link,\n",
       "a:link.sk-estimator-doc-link,\n",
       "a:visited.sk-estimator-doc-link {\n",
       "  float: right;\n",
       "  font-size: smaller;\n",
       "  line-height: 1em;\n",
       "  font-family: monospace;\n",
       "  background-color: var(--sklearn-color-background);\n",
       "  border-radius: 1em;\n",
       "  height: 1em;\n",
       "  width: 1em;\n",
       "  text-decoration: none !important;\n",
       "  margin-left: 0.5em;\n",
       "  text-align: center;\n",
       "  /* unfitted */\n",
       "  border: var(--sklearn-color-unfitted-level-1) 1pt solid;\n",
       "  color: var(--sklearn-color-unfitted-level-1);\n",
       "}\n",
       "\n",
       ".sk-estimator-doc-link.fitted,\n",
       "a:link.sk-estimator-doc-link.fitted,\n",
       "a:visited.sk-estimator-doc-link.fitted {\n",
       "  /* fitted */\n",
       "  border: var(--sklearn-color-fitted-level-1) 1pt solid;\n",
       "  color: var(--sklearn-color-fitted-level-1);\n",
       "}\n",
       "\n",
       "/* On hover */\n",
       "div.sk-estimator:hover .sk-estimator-doc-link:hover,\n",
       ".sk-estimator-doc-link:hover,\n",
       "div.sk-label-container:hover .sk-estimator-doc-link:hover,\n",
       ".sk-estimator-doc-link:hover {\n",
       "  /* unfitted */\n",
       "  background-color: var(--sklearn-color-unfitted-level-3);\n",
       "  color: var(--sklearn-color-background);\n",
       "  text-decoration: none;\n",
       "}\n",
       "\n",
       "div.sk-estimator.fitted:hover .sk-estimator-doc-link.fitted:hover,\n",
       ".sk-estimator-doc-link.fitted:hover,\n",
       "div.sk-label-container:hover .sk-estimator-doc-link.fitted:hover,\n",
       ".sk-estimator-doc-link.fitted:hover {\n",
       "  /* fitted */\n",
       "  background-color: var(--sklearn-color-fitted-level-3);\n",
       "  color: var(--sklearn-color-background);\n",
       "  text-decoration: none;\n",
       "}\n",
       "\n",
       "/* Span, style for the box shown on hovering the info icon */\n",
       ".sk-estimator-doc-link span {\n",
       "  display: none;\n",
       "  z-index: 9999;\n",
       "  position: relative;\n",
       "  font-weight: normal;\n",
       "  right: .2ex;\n",
       "  padding: .5ex;\n",
       "  margin: .5ex;\n",
       "  width: min-content;\n",
       "  min-width: 20ex;\n",
       "  max-width: 50ex;\n",
       "  color: var(--sklearn-color-text);\n",
       "  box-shadow: 2pt 2pt 4pt #999;\n",
       "  /* unfitted */\n",
       "  background: var(--sklearn-color-unfitted-level-0);\n",
       "  border: .5pt solid var(--sklearn-color-unfitted-level-3);\n",
       "}\n",
       "\n",
       ".sk-estimator-doc-link.fitted span {\n",
       "  /* fitted */\n",
       "  background: var(--sklearn-color-fitted-level-0);\n",
       "  border: var(--sklearn-color-fitted-level-3);\n",
       "}\n",
       "\n",
       ".sk-estimator-doc-link:hover span {\n",
       "  display: block;\n",
       "}\n",
       "\n",
       "/* \"?\"-specific style due to the `<a>` HTML tag */\n",
       "\n",
       "#sk-container-id-1 a.estimator_doc_link {\n",
       "  float: right;\n",
       "  font-size: 1rem;\n",
       "  line-height: 1em;\n",
       "  font-family: monospace;\n",
       "  background-color: var(--sklearn-color-background);\n",
       "  border-radius: 1rem;\n",
       "  height: 1rem;\n",
       "  width: 1rem;\n",
       "  text-decoration: none;\n",
       "  /* unfitted */\n",
       "  color: var(--sklearn-color-unfitted-level-1);\n",
       "  border: var(--sklearn-color-unfitted-level-1) 1pt solid;\n",
       "}\n",
       "\n",
       "#sk-container-id-1 a.estimator_doc_link.fitted {\n",
       "  /* fitted */\n",
       "  border: var(--sklearn-color-fitted-level-1) 1pt solid;\n",
       "  color: var(--sklearn-color-fitted-level-1);\n",
       "}\n",
       "\n",
       "/* On hover */\n",
       "#sk-container-id-1 a.estimator_doc_link:hover {\n",
       "  /* unfitted */\n",
       "  background-color: var(--sklearn-color-unfitted-level-3);\n",
       "  color: var(--sklearn-color-background);\n",
       "  text-decoration: none;\n",
       "}\n",
       "\n",
       "#sk-container-id-1 a.estimator_doc_link.fitted:hover {\n",
       "  /* fitted */\n",
       "  background-color: var(--sklearn-color-fitted-level-3);\n",
       "}\n",
       "</style><div id=\"sk-container-id-1\" class=\"sk-top-container\"><div class=\"sk-text-repr-fallback\"><pre>LinearRegression()</pre><b>In a Jupyter environment, please rerun this cell to show the HTML representation or trust the notebook. <br />On GitHub, the HTML representation is unable to render, please try loading this page with nbviewer.org.</b></div><div class=\"sk-container\" hidden><div class=\"sk-item\"><div class=\"sk-estimator fitted sk-toggleable\"><input class=\"sk-toggleable__control sk-hidden--visually\" id=\"sk-estimator-id-1\" type=\"checkbox\" checked><label for=\"sk-estimator-id-1\" class=\"sk-toggleable__label fitted sk-toggleable__label-arrow\"><div><div>LinearRegression</div></div><div><a class=\"sk-estimator-doc-link fitted\" rel=\"noreferrer\" target=\"_blank\" href=\"https://scikit-learn.org/1.6/modules/generated/sklearn.linear_model.LinearRegression.html\">?<span>Documentation for LinearRegression</span></a><span class=\"sk-estimator-doc-link fitted\">i<span>Fitted</span></span></div></label><div class=\"sk-toggleable__content fitted\"><pre>LinearRegression()</pre></div> </div></div></div></div>"
      ],
      "text/plain": [
       "LinearRegression()"
      ]
     },
     "execution_count": 33,
     "metadata": {},
     "output_type": "execute_result"
    }
   ],
   "source": [
    "# Train the model\n",
    "md1.fit(X_train, y_train)"
   ]
  },
  {
   "cell_type": "code",
   "execution_count": 34,
   "id": "d54ad368-db17-48a4-ab42-c5d0d086f3ec",
   "metadata": {},
   "outputs": [
    {
     "data": {
      "text/plain": [
       "51"
      ]
     },
     "execution_count": 34,
     "metadata": {},
     "output_type": "execute_result"
    }
   ],
   "source": [
    "y_hat = md1.predict(X_test)\n",
    "len(y_hat)\n",
    "\n",
    "\n",
    "# 51"
   ]
  },
  {
   "cell_type": "markdown",
   "id": "f2f346ff-1413-4375-94c4-fee2960b38d9",
   "metadata": {},
   "source": [
    "## Metrics for Classification"
   ]
  },
  {
   "cell_type": "code",
   "execution_count": 35,
   "id": "b35786f3-2f02-4025-ad3f-51e3678e1f99",
   "metadata": {},
   "outputs": [
    {
     "data": {
      "text/plain": [
       "4.9370094069556716e-14"
      ]
     },
     "execution_count": 35,
     "metadata": {},
     "output_type": "execute_result"
    }
   ],
   "source": [
    "# how far off on avg?\n",
    "mean_absolute_error(y_test, y_hat)\n",
    "\n",
    "# 4.9370094069556716e-14"
   ]
  },
  {
   "cell_type": "code",
   "execution_count": 36,
   "id": "5039811d-52b8-4e55-91dc-f1a31770d30b",
   "metadata": {},
   "outputs": [
    {
     "data": {
      "text/plain": [
       "np.float64(6.615070741123835e-14)"
      ]
     },
     "execution_count": 36,
     "metadata": {},
     "output_type": "execute_result"
    }
   ],
   "source": [
    "#  now take into account a few points being far off ....\n",
    "# RMSE - analogous to std of your predictions...\n",
    "np.sqrt(mean_squared_error(y_test, y_hat))\n",
    "\n",
    "\n",
    "np.float64(6.615070741123835e-14)"
   ]
  },
  {
   "cell_type": "code",
   "execution_count": 37,
   "id": "bc1b4aa0-b9aa-452a-9f73-60b3115d0152",
   "metadata": {},
   "outputs": [
    {
     "data": {
      "text/plain": [
       "1.0"
      ]
     },
     "execution_count": 37,
     "metadata": {},
     "output_type": "execute_result"
    }
   ],
   "source": [
    "# coffiecient of determination\n",
    "r2 = r2_score(y_test,y_hat)\n",
    "r2\n",
    "\n",
    "\n",
    "# 1.0"
   ]
  },
  {
   "cell_type": "code",
   "execution_count": 38,
   "id": "6f343d8e-af53-4f46-a19a-68ce35535bf7",
   "metadata": {},
   "outputs": [
    {
     "data": {
      "text/plain": [
       "1.0"
      ]
     },
     "execution_count": 38,
     "metadata": {},
     "output_type": "execute_result"
    }
   ],
   "source": [
    "myfuns.adj_r2(r2,len(y_test),len(X_test.columns))\n",
    "\n",
    "\n",
    "# 1.0"
   ]
  },
  {
   "cell_type": "code",
   "execution_count": 39,
   "id": "325d5271-674d-4427-ac04-d96d2d9e1d15",
   "metadata": {},
   "outputs": [
    {
     "name": "stdout",
     "output_type": "stream",
     "text": [
      "100.00% of the variability in the dependent variable is explained by the independent variables.\n"
     ]
    }
   ],
   "source": [
    "print(f\"{r2_score(y_test, y_hat)* 100:.2f}% of the variability in the dependent variable is explained by the independent variables.\") \n",
    "\n",
    "\n",
    "# 100.00% of the variability in the dependent variable is explained by the independent variables.\n"
   ]
  },
  {
   "cell_type": "code",
   "execution_count": 40,
   "id": "0a188653-3f37-4dee-b68d-fa90dfcd1e8c",
   "metadata": {},
   "outputs": [
    {
     "data": {
      "text/html": [
       "<div>\n",
       "<style scoped>\n",
       "    .dataframe tbody tr th:only-of-type {\n",
       "        vertical-align: middle;\n",
       "    }\n",
       "\n",
       "    .dataframe tbody tr th {\n",
       "        vertical-align: top;\n",
       "    }\n",
       "\n",
       "    .dataframe thead th {\n",
       "        text-align: right;\n",
       "    }\n",
       "</style>\n",
       "<table border=\"1\" class=\"dataframe\">\n",
       "  <thead>\n",
       "    <tr style=\"text-align: right;\">\n",
       "      <th></th>\n",
       "      <th>Actual</th>\n",
       "      <th>Preds</th>\n",
       "    </tr>\n",
       "  </thead>\n",
       "  <tbody>\n",
       "    <tr>\n",
       "      <th>138</th>\n",
       "      <td>268.0984</td>\n",
       "      <td>268.0984</td>\n",
       "    </tr>\n",
       "    <tr>\n",
       "      <th>30</th>\n",
       "      <td>2.8267</td>\n",
       "      <td>2.8267</td>\n",
       "    </tr>\n",
       "    <tr>\n",
       "      <th>119</th>\n",
       "      <td>46.9411</td>\n",
       "      <td>46.9411</td>\n",
       "    </tr>\n",
       "    <tr>\n",
       "      <th>29</th>\n",
       "      <td>2.0191</td>\n",
       "      <td>2.0191</td>\n",
       "    </tr>\n",
       "    <tr>\n",
       "      <th>143</th>\n",
       "      <td>282.3746</td>\n",
       "      <td>282.3746</td>\n",
       "    </tr>\n",
       "    <tr>\n",
       "      <th>162</th>\n",
       "      <td>399.6468</td>\n",
       "      <td>399.6468</td>\n",
       "    </tr>\n",
       "    <tr>\n",
       "      <th>165</th>\n",
       "      <td>139.8350</td>\n",
       "      <td>139.8350</td>\n",
       "    </tr>\n",
       "    <tr>\n",
       "      <th>51</th>\n",
       "      <td>113.4729</td>\n",
       "      <td>113.4729</td>\n",
       "    </tr>\n",
       "    <tr>\n",
       "      <th>105</th>\n",
       "      <td>78.7965</td>\n",
       "      <td>78.7965</td>\n",
       "    </tr>\n",
       "    <tr>\n",
       "      <th>60</th>\n",
       "      <td>509.4388</td>\n",
       "      <td>509.4388</td>\n",
       "    </tr>\n",
       "    <tr>\n",
       "      <th>15</th>\n",
       "      <td>95.1378</td>\n",
       "      <td>95.1378</td>\n",
       "    </tr>\n",
       "    <tr>\n",
       "      <th>157</th>\n",
       "      <td>364.1604</td>\n",
       "      <td>364.1604</td>\n",
       "    </tr>\n",
       "    <tr>\n",
       "      <th>133</th>\n",
       "      <td>157.6768</td>\n",
       "      <td>157.6768</td>\n",
       "    </tr>\n",
       "    <tr>\n",
       "      <th>45</th>\n",
       "      <td>77.7350</td>\n",
       "      <td>77.7350</td>\n",
       "    </tr>\n",
       "    <tr>\n",
       "      <th>68</th>\n",
       "      <td>1.2629</td>\n",
       "      <td>1.2629</td>\n",
       "    </tr>\n",
       "    <tr>\n",
       "      <th>85</th>\n",
       "      <td>22.7952</td>\n",
       "      <td>22.7952</td>\n",
       "    </tr>\n",
       "    <tr>\n",
       "      <th>24</th>\n",
       "      <td>34.1226</td>\n",
       "      <td>34.1226</td>\n",
       "    </tr>\n",
       "    <tr>\n",
       "      <th>109</th>\n",
       "      <td>0.7278</td>\n",
       "      <td>0.7278</td>\n",
       "    </tr>\n",
       "    <tr>\n",
       "      <th>75</th>\n",
       "      <td>5.3205</td>\n",
       "      <td>5.3205</td>\n",
       "    </tr>\n",
       "    <tr>\n",
       "      <th>108</th>\n",
       "      <td>0.3639</td>\n",
       "      <td>0.3639</td>\n",
       "    </tr>\n",
       "    <tr>\n",
       "      <th>19</th>\n",
       "      <td>8.2581</td>\n",
       "      <td>8.2581</td>\n",
       "    </tr>\n",
       "    <tr>\n",
       "      <th>16</th>\n",
       "      <td>101.6264</td>\n",
       "      <td>101.6264</td>\n",
       "    </tr>\n",
       "    <tr>\n",
       "      <th>31</th>\n",
       "      <td>4.8458</td>\n",
       "      <td>4.8458</td>\n",
       "    </tr>\n",
       "    <tr>\n",
       "      <th>18</th>\n",
       "      <td>8.0764</td>\n",
       "      <td>8.0764</td>\n",
       "    </tr>\n",
       "    <tr>\n",
       "      <th>12</th>\n",
       "      <td>97.7704</td>\n",
       "      <td>97.7704</td>\n",
       "    </tr>\n",
       "    <tr>\n",
       "      <th>9</th>\n",
       "      <td>8.4424</td>\n",
       "      <td>8.4424</td>\n",
       "    </tr>\n",
       "    <tr>\n",
       "      <th>82</th>\n",
       "      <td>13.9197</td>\n",
       "      <td>13.9197</td>\n",
       "    </tr>\n",
       "    <tr>\n",
       "      <th>98</th>\n",
       "      <td>50.7719</td>\n",
       "      <td>50.7719</td>\n",
       "    </tr>\n",
       "    <tr>\n",
       "      <th>76</th>\n",
       "      <td>5.8041</td>\n",
       "      <td>5.8041</td>\n",
       "    </tr>\n",
       "    <tr>\n",
       "      <th>55</th>\n",
       "      <td>155.2341</td>\n",
       "      <td>155.2341</td>\n",
       "    </tr>\n",
       "    <tr>\n",
       "      <th>42</th>\n",
       "      <td>53.9097</td>\n",
       "      <td>53.9097</td>\n",
       "    </tr>\n",
       "    <tr>\n",
       "      <th>56</th>\n",
       "      <td>509.4388</td>\n",
       "      <td>509.4388</td>\n",
       "    </tr>\n",
       "    <tr>\n",
       "      <th>153</th>\n",
       "      <td>337.6851</td>\n",
       "      <td>337.6851</td>\n",
       "    </tr>\n",
       "    <tr>\n",
       "      <th>111</th>\n",
       "      <td>4.3666</td>\n",
       "      <td>4.3666</td>\n",
       "    </tr>\n",
       "    <tr>\n",
       "      <th>69</th>\n",
       "      <td>1.8272</td>\n",
       "      <td>1.8272</td>\n",
       "    </tr>\n",
       "    <tr>\n",
       "      <th>137</th>\n",
       "      <td>288.1968</td>\n",
       "      <td>288.1968</td>\n",
       "    </tr>\n",
       "    <tr>\n",
       "      <th>2</th>\n",
       "      <td>97.3807</td>\n",
       "      <td>97.3807</td>\n",
       "    </tr>\n",
       "    <tr>\n",
       "      <th>93</th>\n",
       "      <td>33.6394</td>\n",
       "      <td>33.6394</td>\n",
       "    </tr>\n",
       "    <tr>\n",
       "      <th>135</th>\n",
       "      <td>213.9842</td>\n",
       "      <td>213.9842</td>\n",
       "    </tr>\n",
       "    <tr>\n",
       "      <th>150</th>\n",
       "      <td>284.5679</td>\n",
       "      <td>284.5679</td>\n",
       "    </tr>\n",
       "    <tr>\n",
       "      <th>90</th>\n",
       "      <td>28.9601</td>\n",
       "      <td>28.9601</td>\n",
       "    </tr>\n",
       "    <tr>\n",
       "      <th>114</th>\n",
       "      <td>7.2777</td>\n",
       "      <td>7.2777</td>\n",
       "    </tr>\n",
       "    <tr>\n",
       "      <th>26</th>\n",
       "      <td>31.7401</td>\n",
       "      <td>31.7401</td>\n",
       "    </tr>\n",
       "    <tr>\n",
       "      <th>145</th>\n",
       "      <td>268.5370</td>\n",
       "      <td>268.5370</td>\n",
       "    </tr>\n",
       "    <tr>\n",
       "      <th>136</th>\n",
       "      <td>237.5520</td>\n",
       "      <td>237.5520</td>\n",
       "    </tr>\n",
       "    <tr>\n",
       "      <th>97</th>\n",
       "      <td>43.6741</td>\n",
       "      <td>43.6741</td>\n",
       "    </tr>\n",
       "    <tr>\n",
       "      <th>65</th>\n",
       "      <td>196.0336</td>\n",
       "      <td>196.0336</td>\n",
       "    </tr>\n",
       "    <tr>\n",
       "      <th>36</th>\n",
       "      <td>27.4596</td>\n",
       "      <td>27.4596</td>\n",
       "    </tr>\n",
       "    <tr>\n",
       "      <th>126</th>\n",
       "      <td>117.3136</td>\n",
       "      <td>117.3136</td>\n",
       "    </tr>\n",
       "    <tr>\n",
       "      <th>22</th>\n",
       "      <td>23.1186</td>\n",
       "      <td>23.1186</td>\n",
       "    </tr>\n",
       "    <tr>\n",
       "      <th>101</th>\n",
       "      <td>51.9476</td>\n",
       "      <td>51.9476</td>\n",
       "    </tr>\n",
       "  </tbody>\n",
       "</table>\n",
       "</div>"
      ],
      "text/plain": [
       "       Actual     Preds\n",
       "138  268.0984  268.0984\n",
       "30     2.8267    2.8267\n",
       "119   46.9411   46.9411\n",
       "29     2.0191    2.0191\n",
       "143  282.3746  282.3746\n",
       "162  399.6468  399.6468\n",
       "165  139.8350  139.8350\n",
       "51   113.4729  113.4729\n",
       "105   78.7965   78.7965\n",
       "60   509.4388  509.4388\n",
       "15    95.1378   95.1378\n",
       "157  364.1604  364.1604\n",
       "133  157.6768  157.6768\n",
       "45    77.7350   77.7350\n",
       "68     1.2629    1.2629\n",
       "85    22.7952   22.7952\n",
       "24    34.1226   34.1226\n",
       "109    0.7278    0.7278\n",
       "75     5.3205    5.3205\n",
       "108    0.3639    0.3639\n",
       "19     8.2581    8.2581\n",
       "16   101.6264  101.6264\n",
       "31     4.8458    4.8458\n",
       "18     8.0764    8.0764\n",
       "12    97.7704   97.7704\n",
       "9      8.4424    8.4424\n",
       "82    13.9197   13.9197\n",
       "98    50.7719   50.7719\n",
       "76     5.8041    5.8041\n",
       "55   155.2341  155.2341\n",
       "42    53.9097   53.9097\n",
       "56   509.4388  509.4388\n",
       "153  337.6851  337.6851\n",
       "111    4.3666    4.3666\n",
       "69     1.8272    1.8272\n",
       "137  288.1968  288.1968\n",
       "2     97.3807   97.3807\n",
       "93    33.6394   33.6394\n",
       "135  213.9842  213.9842\n",
       "150  284.5679  284.5679\n",
       "90    28.9601   28.9601\n",
       "114    7.2777    7.2777\n",
       "26    31.7401   31.7401\n",
       "145  268.5370  268.5370\n",
       "136  237.5520  237.5520\n",
       "97    43.6741   43.6741\n",
       "65   196.0336  196.0336\n",
       "36    27.4596   27.4596\n",
       "126  117.3136  117.3136\n",
       "22    23.1186   23.1186\n",
       "101   51.9476   51.9476"
      ]
     },
     "execution_count": 40,
     "metadata": {},
     "output_type": "execute_result"
    }
   ],
   "source": [
    "# evaluating residuals\n",
    "pd.DataFrame({'Actual': y_test, 'Preds': y_hat})\n",
    "\n",
    "\n",
    "\n",
    "\n",
    "#\t      Actual\tPreds\n",
    "#138\t268.0984\t268.0984\n",
    "#30   \t2.8267\t   2.8267\n",
    "#119\t46.9411\t   46.9411\n",
    "#29 \t2.0191\t   2.0191\n",
    "#143\t282.3746\t282.3746\n",
    "#162\t399.6468\t399.6468\n",
    "#165\t139.8350\t139.8350\n",
    "#51 \t113.4729\t113.4729\n",
    "#105\t78.7965\t   78.7965\n",
    "#60\t   509.4388\t   509.4388\n",
    "#15  \t95.1378\t    95.1378\n",
    "#157\t364.1604\t364.1604\n",
    "#133\t157.6768\t157.6768\n",
    "#--------------------\n",
    "#101\t51.9476   \t51.9476\n",
    "\n"
   ]
  },
  {
   "cell_type": "code",
   "execution_count": 41,
   "id": "efc02771-f12c-4cfe-8cff-53f568da1373",
   "metadata": {},
   "outputs": [
    {
     "data": {
      "text/html": [
       "<div>\n",
       "<style scoped>\n",
       "    .dataframe tbody tr th:only-of-type {\n",
       "        vertical-align: middle;\n",
       "    }\n",
       "\n",
       "    .dataframe tbody tr th {\n",
       "        vertical-align: top;\n",
       "    }\n",
       "\n",
       "    .dataframe thead th {\n",
       "        text-align: right;\n",
       "    }\n",
       "</style>\n",
       "<table border=\"1\" class=\"dataframe\">\n",
       "  <thead>\n",
       "    <tr style=\"text-align: right;\">\n",
       "      <th></th>\n",
       "      <th>Actuals</th>\n",
       "      <th>Preds</th>\n",
       "      <th>abs_diff</th>\n",
       "      <th>residuals</th>\n",
       "    </tr>\n",
       "  </thead>\n",
       "  <tbody>\n",
       "    <tr>\n",
       "      <th>138</th>\n",
       "      <td>268.0984</td>\n",
       "      <td>268.0984</td>\n",
       "      <td>5.684342e-14</td>\n",
       "      <td>5.684342e-14</td>\n",
       "    </tr>\n",
       "    <tr>\n",
       "      <th>30</th>\n",
       "      <td>2.8267</td>\n",
       "      <td>2.8267</td>\n",
       "      <td>1.465494e-14</td>\n",
       "      <td>1.465494e-14</td>\n",
       "    </tr>\n",
       "    <tr>\n",
       "      <th>119</th>\n",
       "      <td>46.9411</td>\n",
       "      <td>46.9411</td>\n",
       "      <td>6.394885e-14</td>\n",
       "      <td>-6.394885e-14</td>\n",
       "    </tr>\n",
       "    <tr>\n",
       "      <th>29</th>\n",
       "      <td>2.0191</td>\n",
       "      <td>2.0191</td>\n",
       "      <td>1.554312e-14</td>\n",
       "      <td>1.554312e-14</td>\n",
       "    </tr>\n",
       "    <tr>\n",
       "      <th>143</th>\n",
       "      <td>282.3746</td>\n",
       "      <td>282.3746</td>\n",
       "      <td>0.000000e+00</td>\n",
       "      <td>0.000000e+00</td>\n",
       "    </tr>\n",
       "  </tbody>\n",
       "</table>\n",
       "</div>"
      ],
      "text/plain": [
       "      Actuals     Preds      abs_diff     residuals\n",
       "138  268.0984  268.0984  5.684342e-14  5.684342e-14\n",
       "30     2.8267    2.8267  1.465494e-14  1.465494e-14\n",
       "119   46.9411   46.9411  6.394885e-14 -6.394885e-14\n",
       "29     2.0191    2.0191  1.554312e-14  1.554312e-14\n",
       "143  282.3746  282.3746  0.000000e+00  0.000000e+00"
      ]
     },
     "execution_count": 41,
     "metadata": {},
     "output_type": "execute_result"
    }
   ],
   "source": [
    "# evaluating residuals\n",
    "eval_df = pd.DataFrame({'Actuals': y_test, 'Preds': y_hat})\n",
    "eval_df['abs_diff'] = np.abs(eval_df['Actuals'] - eval_df['Preds'])\n",
    "eval_df['residuals'] = eval_df['Actuals'] - eval_df['Preds']\n",
    "eval_df.head()\n",
    "\n",
    "\n",
    "\n",
    "\n",
    "#       Actuals\t   Preds\t     abs_diff          residuals\n",
    "#138\t268.0984   268.0984\t     5.684342e-14\t   5.684342e-14\n",
    "#30\t    2.8267\t   2.8267\t     1.465494e-14\t   1.465494e-14\n",
    "#119\t46.9411\t   46.9411\t     6.394885e-14\t   -6.394885e-14\n",
    "#29\t    2.0191     2.0191\t     1.554312e-14\t   1.554312e-14\n",
    "#143\t282.3746   282.3746\t     0.000000e+00\t   0.000000e+00\n",
    "\n"
   ]
  },
  {
   "cell_type": "code",
   "execution_count": 42,
   "id": "799cfe1a-9d19-4408-8077-af885f6cd88f",
   "metadata": {},
   "outputs": [
    {
     "data": {
      "text/plain": [
       "Actuals      1.160022e+02\n",
       "Preds        1.160022e+02\n",
       "abs_diff     4.937009e-14\n",
       "residuals    8.448580e-15\n",
       "dtype: float64"
      ]
     },
     "execution_count": 42,
     "metadata": {},
     "output_type": "execute_result"
    }
   ],
   "source": [
    "eval_df.mean()\n",
    "\n",
    "\n",
    "\n",
    "#Actuals      1.160022e+02\n",
    "#Preds        1.160022e+02\n",
    "#abs_diff     4.937009e-14\n",
    "#residuals    8.448580e-15\n",
    "#dtype: float64"
   ]
  },
  {
   "cell_type": "code",
   "execution_count": 43,
   "id": "91f9a526-ff1f-4041-9e81-97087b1aed79",
   "metadata": {},
   "outputs": [
    {
     "data": {
      "text/plain": [
       "4.9370094069556716e-14"
      ]
     },
     "execution_count": 43,
     "metadata": {},
     "output_type": "execute_result"
    }
   ],
   "source": [
    "mean_absolute_error(eval_df.Actuals,eval_df.Preds)\n",
    "\n",
    "\n",
    "#4.9370094069556716e-14"
   ]
  },
  {
   "cell_type": "code",
   "execution_count": 44,
   "id": "1db3ca58-8c75-40f7-bf0b-30b7a3e6a2c5",
   "metadata": {},
   "outputs": [
    {
     "data": {
      "image/png": "[encoded data removed]",
      "text/plain": [
       "<Figure size 800x600 with 4 Axes>"
      ]
     },
     "metadata": {},
     "output_type": "display_data"
    }
   ],
   "source": [
    "fig,axes = plt.subplots(nrows=2, ncols=2, figsize=(8,6))\n",
    "sns.boxplot(data=eval_df[['Actuals', 'Preds']], ax=axes[0,0]) \n",
    "sns.boxplot(data=eval_df[['abs_diff', 'residuals']], ax=axes[0,1])\n",
    "sns.histplot(data=eval_df['residuals'], kde=True, bins=8, ax=axes[1,0])\n",
    "sns.scatterplot(data=eval_df['residuals'], ax=axes[1,1])\n",
    " \n",
    "plt.tight_layout()\n",
    "plt.show()\n",
    " "
   ]
  },
  {
   "cell_type": "code",
   "execution_count": 45,
   "id": "e80eb129-6880-437a-974a-52252e7c8b32",
   "metadata": {},
   "outputs": [
    {
     "data": {
      "image/png": "[encoded data removed]",
      "text/plain": [
       "<Figure size 600x800 with 1 Axes>"
      ]
     },
     "metadata": {},
     "output_type": "display_data"
    }
   ],
   "source": [
    "# Need scipy for the probability plot below (optional)\n",
    "\n",
    "import scipy as sp\n",
    " \n",
    "# probability plot (more stats / R based concept)\n",
    "fig, ax = plt.subplots(figsize=(6,8))\n",
    "_ = sp.stats.probplot(eval_df['residuals'], plot=ax)\n",
    "\n",
    "# red line represent a perfect normal distribution\n",
    "\n",
    "plt.show()\n",
    " "
   ]
  },
  {
   "cell_type": "markdown",
   "id": "2a0d7254-3407-4092-bd78-d426fdb098e0",
   "metadata": {},
   "source": [
    "## Insights Based on the Findings:"
   ]
  },
  {
   "cell_type": "markdown",
   "id": "fcac4cf1-b21c-4366-88b4-2e656e9999f3",
   "metadata": {},
   "source": [
    "###  Key Observations\n",
    "\n",
    "The absolute differences and residuals are extremely small (close to zero), indicating an excellent fit of the model to the data.\n",
    "\n",
    "The predicted values align almost perfectly with the actual values, suggesting that the model captures the relationship between production and emissions effectively.\n",
    "\n",
    "No significant errors or deviations were observed in the predictions, which validates the accuracy of the regression model.\n",
    "\n",
    "### Conclusion & Implications\n",
    "\n",
    "Based on the findings, the Linear Regression Model is highly accurate in predicting total emissions (MtCO2e) from the production data. This suggests that:\n",
    "Production volume is a strong predictor of total emissions.\n",
    "\n",
    "The model can be used for forecasting future emissions trends.\n",
    "\n",
    "Organizations can rely on the model for emission reduction strategies and regulatory reporting.\n",
    "\n",
    "Further analysis can explore the impact of different emission sources to optimize carbon management strategies.\n",
    "  \n",
    "\n",
    "\n",
    "\n",
    "\n",
    "This analysis provides a strong foundation for data-driven decision-making in emissions management and climate action initiatives."
   ]
  }
 ],
 "metadata": {
  "kernelspec": {
   "display_name": "Python 3 (ipykernel)",
   "language": "python",
   "name": "python3"
  },
  "language_info": {
   "codemirror_mode": {
    "name": "ipython",
    "version": 3
   },
   "file_extension": ".py",
   "mimetype": "text/x-python",
   "name": "python",
   "nbconvert_exporter": "python",
   "pygments_lexer": "ipython3",
   "version": "3.11.11"
  }
 },
 "nbformat": 4,
 "nbformat_minor": 5
}
