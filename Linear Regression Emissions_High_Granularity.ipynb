{
 "cells": [
  {
   "cell_type": "markdown",
   "id": "49423861-d06b-4ee7-8c40-1e98cf05d2f8",
   "metadata": {},
   "source": [
    "#  Linear Regression-EmissionsHighGranularity Metrics"
   ]
  },
  {
   "attachments": {},
   "cell_type": "markdown",
   "id": "a6892ef5-c9f1-4649-ada0-ae82814f054c",
   "metadata": {},
   "source": [
    "## Model Objectives:\n",
    "- Dataset (emissions_high_granularity)\n",
    "- Develop a predictive model that estimates total operational emissions (MtCO2e) or total emissions (MtCO2e) based on production volume, commodity type, and other emissions factors.\n",
    "- Determine how different factors like production value, commodity type (Sub-Bituminous vs. Metallurgical Coal, Natural Gas, Oil &  NGL), and specific emission sources (venting, flaring, fugitive methane, own fuel use, etc.) impact total emissions.\n",
    "- Forecast future emissions trends based on historical production and emission patterns.\n"
   ]
  },
  {
   "cell_type": "code",
   "execution_count": null,
   "id": "19e8bff8-e710-451d-bb92-16bd4b39b20f",
   "metadata": {},
   "outputs": [],
   "source": [
    "import pandas as pd\n",
    "import numpy as np\n",
    "import matplotlib.pyplot as plt\n",
    "import seaborn as sns\n",
    " \n",
    "from sklearn.model_selection import train_test_split\n",
    "\n",
    "from sklearn.linear_model import LinearRegression\n",
    "\n",
    "from sklearn.metrics import mean_absolute_error, mean_squared_error,  r2_score, explained_variance_score\n",
    "import scipy as sp\n",
    "\n",
    "import myfuns"
   ]
  },
  {
   "cell_type": "markdown",
   "id": "e4e549e0-ed37-4d16-a223-a20da77662b5",
   "metadata": {},
   "source": [
    "## Load the Dataset"
   ]
  },
  {
   "cell_type": "code",
   "execution_count": null,
   "id": "8931d4a4-7b3e-4b53-818c-4fabe0b0975c",
   "metadata": {},
   "outputs": [],
   "source": [
    "df=pd.read_csv('emissions_high_granularity.csv')\n",
    "df.head(3)\n",
    "\n",
    "\n",
    "#   year\tparent_entity\tparent_type\t            reporting_entity\tcommodity\t        production_value\tproduction_unit\t       product_emissions_MtCO2\t flaring_emissions_MtCO2\tventing_emissions_MtCO2\t  own_fuel_use_emissions_MtCO2\t   fugitive_methane_emissions_MtCO2e\tfugitive_methane_emissions_MtCH4\t total_operational_emissions_MtCO2e   \ttotal_emissions_MtCO2e\temissions_category\n",
    "#0\t1854\tAdaro Energy\tInvestor-owned Company\tAdaro Energy\t    Sub-Bituminous Coal\t50.90\t            Million tonnes/yr\t   92.3401\t                 0.0\t                    0.0\t                      0.0\t                           10.4316\t                            0.3726\t                             10.4316\t                            102.7717\t             High\n",
    "#1\t1855\tAdaro Energy\tInvestor-owned Company\tAdaro Energy\t    Metallurgical Coal\t0.90\t            Million tonnes/yr\t   2.3989\t                 0.0\t                    0.0\t                      0.0\t                           0.2710                          \t    0.0097\t                             0.2710\t                                2.6700\t                 Low\n",
    "#2\t1856\tAdaro Energy\tInvestor-owned Company\tAdaro Energy\t    Sub-Bituminous Coal\t48.23\t            Million tonnes/yr\t   87.4963                   0.0\t                    0.0\t                      0.0\t                           9.8844\t                            0.3530\t                             9.8844\t                                97.3807\t                 High\n"
   ]
  },
  {
   "cell_type": "markdown",
   "id": "4d891471-58ca-4521-9644-07b5d5f271ae",
   "metadata": {},
   "source": [
    "## Checking Dataset Structures"
   ]
  },
  {
   "cell_type": "code",
   "execution_count": null,
   "id": "12160c88-647a-481e-95b5-f9eff7069c37",
   "metadata": {},
   "outputs": [],
   "source": [
    "df.shape\n",
    "\n",
    "# (169, 16)"
   ]
  },
  {
   "cell_type": "code",
   "execution_count": null,
   "id": "a96b5f08-fdf6-4731-886d-51c30fefac0d",
   "metadata": {},
   "outputs": [],
   "source": [
    "# check for nulls\n",
    "df.isna().sum()\n",
    "\n",
    "\n",
    "#year                                  0\n",
    "#parent_entity                         0\n",
    "#parent_type                           0\n",
    "#reporting_entity                      0\n",
    "#commodity                             0\n",
    "#production_value                      0\n",
    "#production_unit                       0\n",
    "#product_emissions_MtCO2               0\n",
    "#flaring_emissions_MtCO2               0\n",
    "#venting_emissions_MtCO2               0\n",
    "#own_fuel_use_emissions_MtCO2          0\n",
    "#fugitive_methane_emissions_MtCO2e     0\n",
    "#fugitive_methane_emissions_MtCH4      0\n",
    "#total_operational_emissions_MtCO2e    0\n",
    "#total_emissions_MtCO2e                0\n",
    "#emissions_category                    0\n",
    "#dtype: int64"
   ]
  },
  {
   "cell_type": "code",
   "execution_count": null,
   "id": "cdfd358a-7848-4ca8-a9c7-b7fa6b538711",
   "metadata": {},
   "outputs": [],
   "source": [
    "df.describe().T\n",
    "\n",
    "\n",
    "\n",
    "\n",
    "#                                   count\tmean\t     std\t     min\t    25%\t         50%\t     75%\t     max\n",
    "#            year                   169.0\t1938.000000\t48.930222\t1854.0000\t1896.0000\t1938.0000\t1980.0000\t2022.0000\n",
    "# production_value\t                169.0\t517.610641\t638.228700\t0.2200\t    26.7800   \t294.1827\t779.3000\t2689.4303\n",
    "#product_emissions_MtCO2\t        169.0\t103.311733\t122.626849\t0.0985\t    15.3799\t    63.6150\t    129.0338\t501.6130\n",
    "#flaring_emissions_MtCO2\t        169.0\t1.220998\t2.116210\t0.0000\t    0.0000\t    0.0646\t    1.7422\t    7.9980\n",
    "#venting_emissions_MtCO2\t        169.0\t0.758836\t0.970974\t0.0000\t    0.0000\t    0.4188\t    1.1094\t    4.1005\n",
    "#own_fuel_use_emissions_MtCO2\t    169.0\t0.947757\t1.958714\t0.0000\t    0.0000\t    0.0000\t    0.7779\t    8.2293\n",
    "#fugitive_methane_emissions_MtCO2e  169.0\t9.959031\t9.464944\t0.0183\t    2.1448\t    7.2107\t    14.9693\t    39.7481\n",
    "#fugitive_methane_emissions_MtCH4   169.0\t0.355678\t0.338033\t0.0007\t    0.0766\t    0.2575\t    0.5346\t    1.4196\n",
    "#total_operational_emissions_MtCO2e 169.0\t12.886622\t12.752361\t0.0250\t    2.2339\t    8.6629\t    19.9125\t    52.3273\n",
    "#total_emissions_MtCO2e\t            169.0\t116.198352\t131.234395\t0.1344\t    17.3642     74.0578\t    144.2469  \t538.5495\n"
   ]
  },
  {
   "cell_type": "code",
   "execution_count": null,
   "id": "4cc1a98f-df13-4236-8841-8040af76ce85",
   "metadata": {},
   "outputs": [],
   "source": [
    "sns.pairplot(data=df);"
   ]
  },
  {
   "cell_type": "code",
   "execution_count": null,
   "id": "c37e6efa-13dd-45a3-8661-e61f8aff8333",
   "metadata": {},
   "outputs": [],
   "source": [
    "df.columns"
   ]
  },
  {
   "cell_type": "code",
   "execution_count": null,
   "id": "b8311299-732e-454d-9e7f-60cabe7e9c94",
   "metadata": {},
   "outputs": [],
   "source": [
    "plt.subplots(nrows=2, ncols=2, figsize=(8,6))"
   ]
  },
  {
   "cell_type": "code",
   "execution_count": null,
   "id": "a5f03dad-3993-4f63-bb2b-02a6da570c0e",
   "metadata": {},
   "outputs": [],
   "source": [
    "fig,axes=plt.subplots(nrows=2, ncols=2, figsize=(8,6))\n",
    "plt.show()"
   ]
  },
  {
   "cell_type": "code",
   "execution_count": null,
   "id": "7ad715ca-574a-499f-aa07-c5a7d4ae124a",
   "metadata": {},
   "outputs": [],
   "source": [
    "# nrows=2: Creates 2 rows of subplots.\n",
    "# ncols=2: Creates 2 columns of subplots.\n",
    "# This results in a total of 4 subplots (2 × 2 = 4).\n",
    "# figsize=(10,8): The entire figure (not individual subplots) is 10 inches wide and 8 inches tall.\n",
    "# ax=axes[0,0]),ax=axes[0,1]),ax=axes[1,0]),ax=axes[1,1]) = places this plot in the top-left position (row 0, column 0),\n",
    "# Placed in the top-right (row 0, column 1),Placed in the bottom-left (row 1, column 0),Placed in the bottom-right (row 1, column 1).\n",
    "\n",
    "fig,axes = plt.subplots(nrows=2, ncols=2, figsize=(8,6))\n",
    "sns.scatterplot(data=df, x='production_value', y='total_emissions_MtCO2e', ax=axes[0,0])\n",
    "sns.scatterplot(data=df, x='fugitive_methane_emissions_MtCH4', y= 'total_emissions_MtCO2e', ax=axes[0,1])\n",
    "sns.scatterplot(data=df, x='product_emissions_MtCO2', y='total_emissions_MtCO2e', ax=axes[1,0])\n",
    "sns.histplot(df['total_emissions_MtCO2e'],  bins = 15, ax=axes[1,1])\n",
    "\n",
    "plt.show()\n",
    " "
   ]
  },
  {
   "cell_type": "markdown",
   "id": "763d50cd-fe8d-4d40-ac3f-9edfdb321240",
   "metadata": {},
   "source": [
    "## Perform EDA"
   ]
  },
  {
   "cell_type": "code",
   "execution_count": null,
   "id": "04b67cf0-56be-4b2f-b383-f4124e3d29c7",
   "metadata": {},
   "outputs": [],
   "source": [
    "# no EDA to perform in this model as the focus is just on a simple pipeline and how it works...\n",
    "df.isna().sum()\n",
    "\n",
    "\n",
    "#year                                  0\n",
    "#parent_entity                         0\n",
    "#parent_type                           0\n",
    "#reporting_entity                      0\n",
    "#commodity                             0\n",
    "#production_value                      0\n",
    "#production_unit                       0\n",
    "#product_emissions_MtCO2               0\n",
    "#flaring_emissions_MtCO2               0\n",
    "#venting_emissions_MtCO2               0\n",
    "#own_fuel_use_emissions_MtCO2          0\n",
    "#fugitive_methane_emissions_MtCO2e     0\n",
    "#fugitive_methane_emissions_MtCH4      0\n",
    "#total_operational_emissions_MtCO2e    0\n",
    "#total_emissions_MtCO2e                0\n",
    "#emissions_category                    0\n",
    "#dtype: int64"
   ]
  },
  {
   "cell_type": "markdown",
   "id": "09e45120-2188-45fa-a870-0925efc44053",
   "metadata": {},
   "source": [
    "## Prepare the data for Modeling"
   ]
  },
  {
   "cell_type": "code",
   "execution_count": null,
   "id": "dc63fe53-e0d5-4d49-8292-e5a0aad505c7",
   "metadata": {},
   "outputs": [],
   "source": [
    "# Dropping one column\n",
    "# X = df.drop('Sales', axis =1)\n",
    "# Dropping two columns\n",
    "X = df.drop(['parent_entity', 'parent_type', 'reporting_entity', 'commodity',\n",
    "       'production_unit', 'emissions_category'], axis =1)\n",
    "y = df['total_emissions_MtCO2e']\n",
    "\n"
   ]
  },
  {
   "cell_type": "code",
   "execution_count": null,
   "id": "944f5a26-1ca9-43ff-852e-ad47c54f5a52",
   "metadata": {},
   "outputs": [],
   "source": [
    "X.head(3)\n",
    "\n",
    "\n",
    "#   year\tproduction_value\tproduct_emissions_MtCO2\tflaring_emissions_MtCO2\tventing_emissions_MtCO2\t own_fuel_use_emissions_MtCO2\tfugitive_methane_emissions_MtCO2e\tfugitive_methane_emissions_MtCH4\ttotal_operational_emissions_MtCO2e\ttotal_emissions_MtCO2e\n",
    "#0\t1854\t50.90\t            92.3401\t                0.0\t                    0.0\t                     0.0\t                        10.4316\t                             0.3726\t                             10.4316\t                         102.7717\n",
    "#1\t1855\t0.90\t            2.3989\t                0.0\t                    0.0\t                     0.0\t                        0.2710\t                             0.0097\t                             0.2710\t                             2.6700\n",
    "#2\t1856\t48.23\t            87.4963\t                0.0\t                    0.0\t                     0.0\t                        9.8844\t                             0.3530\t                             9.8844\t                             97.3807\n",
    "\n"
   ]
  },
  {
   "cell_type": "code",
   "execution_count": null,
   "id": "30dc0f56-b540-4da0-8206-5b8613af4168",
   "metadata": {},
   "outputs": [],
   "source": [
    "#  Predicting against all data  -basically just drawing a line as we have no test data\n",
    "full_md1 = LinearRegression()\n",
    "full_md1.fit(X,y)\n",
    "y_hat = full_md1.predict(X)\n",
    "y_hat[:5], y[:5]\n",
    "\n",
    "\n",
    "\n",
    "\n",
    "#(array([102.7717,   2.67  ,  97.3807,  17.1174, 106.6227]),\n",
    "# 0    102.7717\n",
    "# 1    2.6700\n",
    "# 2    97.3807\n",
    "# 3    17.1174\n",
    "# 4    106.6227\n",
    "# Name: total_emissions_MtCO2e, dtype: float64)"
   ]
  },
  {
   "cell_type": "code",
   "execution_count": null,
   "id": "835cd608-90b6-4e92-8464-9fe63f087a2a",
   "metadata": {},
   "outputs": [],
   "source": [
    "y.plot(kind = 'hist');"
   ]
  },
  {
   "cell_type": "markdown",
   "id": "fc8c14b9-25f0-4c76-a838-7af12aaaeeb9",
   "metadata": {},
   "source": [
    "## Establish the base units to compare the resultant metrics  ...."
   ]
  },
  {
   "cell_type": "code",
   "execution_count": null,
   "id": "47bdd43b-7f81-4411-8a1f-fa57470a6202",
   "metadata": {},
   "outputs": [],
   "source": [
    "df['total_emissions_MtCO2e'].mean(),df['total_emissions_MtCO2e'].median(), df['total_emissions_MtCO2e'].min(),df['total_emissions_MtCO2e'].max(),df['total_emissions_MtCO2e'].max()-df['total_emissions_MtCO2e'].min()\n",
    "\n",
    "\n",
    "#(np.float64(116.19835207100593),\n",
    "#np.float64(74.0578),\n",
    "# np.float64(0.1344),\n",
    "# np.float64(538.5495),\n",
    "# np.float64(538.4150999999999))"
   ]
  },
  {
   "cell_type": "code",
   "execution_count": null,
   "id": "a57feba1-ad9f-498f-a62d-ee8a25efabb1",
   "metadata": {},
   "outputs": [],
   "source": [
    "\n",
    "   # OR\n",
    "ymin = np.min(df['total_emissions_MtCO2e'])\n",
    "ymax = np.max(df['total_emissions_MtCO2e'])\n",
    "yrange = (np.max(df['total_emissions_MtCO2e']) - np.min(df['total_emissions_MtCO2e']))\n",
    "ymean= np.mean(df['total_emissions_MtCO2e'])\n",
    "ymedian=  np.median(df['total_emissions_MtCO2e'])\n",
    "\n",
    "\n",
    "ymean, ymedian, ymin,ymax,yrange\n",
    "\n",
    "\n",
    "#(np.float64(116.19835207100593),\n",
    "#np.float64(74.0578),\n",
    "# np.float64(0.1344),\n",
    "# np.float64(538.5495),\n",
    "# np.float64(538.4150999999999))"
   ]
  },
  {
   "cell_type": "code",
   "execution_count": null,
   "id": "b2630b37-92ca-4e6e-872e-dcc24d21bd43",
   "metadata": {},
   "outputs": [],
   "source": [
    "   # OR\n",
    "ymin = np.min(y)\n",
    "ymax = np.max(y)\n",
    "yrange = (np.max(y) - np.min(y))\n",
    "ymean= np.mean(y)\n",
    "ymedian=  np.median(y)\n",
    "\n",
    "ymean, ymedian, ymin,ymax,yrange\n",
    "\n",
    "\n",
    "\n",
    "#(np.float64(116.19835207100593),\n",
    "#np.float64(74.0578),\n",
    "# np.float64(0.1344),\n",
    "# np.float64(538.5495),\n",
    "# np.float64(538.4150999999999))"
   ]
  },
  {
   "cell_type": "code",
   "execution_count": null,
   "id": "a3b2b39f-41fe-41e7-ae92-73b652cdacd3",
   "metadata": {},
   "outputs": [],
   "source": [
    "# how far off on avg?\n",
    "mse = mean_squared_error(y, y_hat)\n",
    "print(f\"MSE: {mse:.2f}\")\n",
    "\n",
    "\n",
    "# MSE: 0.00"
   ]
  },
  {
   "cell_type": "code",
   "execution_count": null,
   "id": "aa93ffa5-ffa3-4305-ad61-37e2b68bbac9",
   "metadata": {},
   "outputs": [],
   "source": [
    "y_true = y"
   ]
  },
  {
   "cell_type": "code",
   "execution_count": null,
   "id": "7229949e-246c-4a2f-b57a-039fd3e84a17",
   "metadata": {},
   "outputs": [],
   "source": [
    "# MAPE - mean absolute percentage error - another way to calc as you see above... lower is better for accuracy\n",
    "# np.abs((y_true - y_pred) / y_true)\n",
    "np.mean(np.abs((y - y_hat) / y)) * 100\n",
    "\n",
    "\n",
    "# np.float64(1.2343280474424356e-12)"
   ]
  },
  {
   "cell_type": "code",
   "execution_count": null,
   "id": "0d0adb05-7ddb-4237-97d7-840afd70623c",
   "metadata": {},
   "outputs": [],
   "source": [
    "# this is reported in squared units, use this for your rmse calc...\n",
    "mse = mean_squared_error(y, y_hat)\n",
    "mse, np.sqrt(mse)\n",
    "\n",
    "# (6.442038781513226e-27, np.float64(8.026231233594772e-14))"
   ]
  },
  {
   "cell_type": "code",
   "execution_count": null,
   "id": "71824d5d-c191-4c01-afe3-d0d86fc0f8ce",
   "metadata": {},
   "outputs": [],
   "source": [
    "#  now take into account a few points being far off ....\n",
    "# RMSE - analogous to std of your predictions...\n",
    "\n",
    "rmse = (mean_squared_error(y, y_hat)/y.mean())* 100\n",
    "print(f\"RMSE: {rmse:.2f}\")\n",
    "\n",
    "\n",
    "# RMSE: 0.00"
   ]
  },
  {
   "cell_type": "markdown",
   "id": "7c0eca73-d689-4ebc-b693-6829aff13e05",
   "metadata": {},
   "source": [
    "## R² Score (Coefficient of Determination)"
   ]
  },
  {
   "cell_type": "code",
   "execution_count": null,
   "id": "d5443cb4-e89d-4585-a71e-8c3cbd17ae00",
   "metadata": {},
   "outputs": [],
   "source": [
    "# coffiecient of determination\n",
    "r2 = r2_score(y, y_hat)\n",
    "print(f\"R² Score: {r2:.2f}\")\n",
    "\n",
    "\n",
    "# R² Score: 1.00"
   ]
  },
  {
   "cell_type": "code",
   "execution_count": null,
   "id": "ae4d6ce9-e4ef-45dd-8907-3922389f5bbf",
   "metadata": {},
   "outputs": [],
   "source": [
    "print(f\"{r2_score(y, y_hat)* 100:.2f}% of the variability in the dependent variable is explained by the independent variables.\") \n",
    "\n",
    "\n",
    "# 100.00% of the variability in the dependent variable is explained by the independent variables."
   ]
  },
  {
   "cell_type": "markdown",
   "id": "0b7bb8f1-3a9a-4e98-8d08-db425c04577f",
   "metadata": {},
   "source": [
    "### Adjusted R-squared Calculation\n",
    "\n",
    "The formula for adjusted R-squared is:\n",
    "\n",
    "$$\\text{adj\\_rsq} = 1 - (1 - r^2) \\times \\frac{(n - 1)}{(n - k - 1)}$$\n",
    "\n",
    "**Explanation of the Values:**\n",
    "\n",
    "- **adj_rsq**: Adjusted R-squared. This is the modified version of R-squared that adjusts for the number of predictors in the model.\n",
    "- **r^2**: R-squared. This is the coefficient of determination that measures the proportion of the variance in the dependent variable that is predictable from the independent variables.\n",
    "- **n**: Total number of observations or data points in the dataset.\n",
    "- **k**: Number of independent variables or predictors in the model.\n",
    "\n",
    "### Why Use Adjusted R-Squared?\n",
    "\n",
    "Adjusted R-squared is used to provide a more accurate measure of the goodness-of-fit of a regression model, especially when multiple independent variables are involved. It takes into account the number of predictors and penalizes for adding variables that do not contribute to the model's explanatory power.\n",
    "\n",
    "Here's how each component plays a role:\n",
    "- **\\( 1 - R^2 \\)**: Calculates the unexplained variance (i.e., the proportion of variance that is not explained by the model).\n",
    "- **\\( \\frac{(n - 1)}{(n - k - 1)} \\)**: A scaling factor that adjusts for the number of predictors relative to the number of observations.\n",
    "\n",
    "In essence, adjusted R-squared adjusts for the complexity of the model, ensuring that adding more variables doesn’t artificially inflate the measure of fit.\n"
   ]
  },
  {
   "cell_type": "code",
   "execution_count": null,
   "id": "a58910a9-56dd-44cc-b042-a6ed0bb4bac3",
   "metadata": {},
   "outputs": [],
   "source": [
    "# adjusted r-square - adjusts for the number of predictors in a model - a better measure when there are many predictor features\n",
    "r_squ = r2_score(y,y_hat)\n",
    "n = len(y) \n",
    "k = len(X.columns)# number of predictors\n",
    "adj_rsq = 1 - (1 - r_squ) * (n - 1) / (n - k - 1)\n",
    "adj_rsq\n",
    "\n",
    "# 1.0"
   ]
  },
  {
   "cell_type": "code",
   "execution_count": null,
   "id": "085b41dc-8f92-4dae-8430-1d94786c24cb",
   "metadata": {},
   "outputs": [],
   "source": [
    "evs = explained_variance_score(y, y_hat)  # usually similar to r-squared but can be negative if model is worse than a simple mean prediction\n",
    "print(f'The explained variance score, {evs:.3} focusses on the variance of the errors.')\n",
    "\n",
    "# The explained variance score, 1.0 focusses on the variance of the errors."
   ]
  },
  {
   "cell_type": "code",
   "execution_count": null,
   "id": "4a7c5bb6-7d1d-4538-ba36-b73603b0ec22",
   "metadata": {},
   "outputs": [],
   "source": [
    "# Create a function that return the adjusted r_square -call it\n",
    "# 'adj_r2'(float r2, int len,int k)'\n",
    "\n",
    "def adj_r2(r2,n,k):\n",
    "    \"\"\"\n",
    "    Takes in the r-squared(r2), lenght of y (n), and width of X (k)\n",
    "    returns the adjusted r-square\n",
    "    \"\"\"\n",
    "    return 1 - (1 - r2) * (n - 1) / (n - k - 1)\n",
    "\n"
   ]
  },
  {
   "cell_type": "code",
   "execution_count": null,
   "id": "3e13380b-cb41-47fc-a1b4-7c2c6f81c3e9",
   "metadata": {},
   "outputs": [],
   "source": [
    "adj_r2(r2_score(y,y_hat), len(y), len(X.columns))\n",
    "\n",
    "# 1.0"
   ]
  },
  {
   "cell_type": "code",
   "execution_count": null,
   "id": "29afcd67-b022-4e1b-b831-8131135b74f8",
   "metadata": {},
   "outputs": [],
   "source": [
    "y\n",
    "\n",
    "#0      102.7717\n",
    "#1      2.6700\n",
    "#2      97.3807\n",
    "#3      17.1174\n",
    "#4      106.6227\n",
    "#         ...   \n",
    "#164    426.1241\n",
    "#165    139.8350\n",
    "#166    436.6618\n",
    "#167    143.2930\n",
    "#168    473.0503\n",
    "#Name: total_emissions_MtCO2e, Length: 169, dtype: float64\n"
   ]
  },
  {
   "cell_type": "code",
   "execution_count": null,
   "id": "db483a44-0862-429a-82e6-1633197d2db2",
   "metadata": {},
   "outputs": [],
   "source": [
    "# Using myfuns created\n",
    "myfuns.adj_r2(r2_score(y,y_hat), len(y), len(X.columns))\n",
    "\n",
    "# 1.0"
   ]
  },
  {
   "cell_type": "markdown",
   "id": "64d5fa4e-7870-4074-89dc-579ea0ebd4f0",
   "metadata": {},
   "source": [
    "## Split the data into train and test sets"
   ]
  },
  {
   "cell_type": "code",
   "execution_count": null,
   "id": "cf0d7f92-e525-401a-8d91-880fe4a303df",
   "metadata": {},
   "outputs": [],
   "source": [
    "X_train, X_test, y_train, y_test = train_test_split(X, y, test_size=0.3, random_state=42)"
   ]
  },
  {
   "cell_type": "code",
   "execution_count": null,
   "id": "bea55f17-3fbe-47d3-bebb-1b601765f644",
   "metadata": {},
   "outputs": [],
   "source": [
    "X_train.shape, X_test.shape, y_train.shape, y_test.shape\n",
    "\n",
    "\n",
    "# ((118, 10), (51, 10), (118,), (51,))"
   ]
  },
  {
   "cell_type": "code",
   "execution_count": null,
   "id": "cb89e345-b3eb-4a6a-8dfb-26727319d2f2",
   "metadata": {},
   "outputs": [],
   "source": [
    "X_train.head(3)\n",
    "\n",
    "\n",
    "\n",
    "\n",
    "#\t   year\t   production_value\t  product_emissions_MtCO2\tflaring_emissions_MtCO2\tventing_emissions_MtCO2\town_fuel_use_emissions_MtCO2\tfugitive_methane_emissions_MtCO2e\tfugitive_methane_emissions_MtCH4\ttotal_operational_emissions_MtCO2e\ttotal_emissions_MtCO2e\n",
    "#160   2014\t   996.9280\t          370.2866                 \t5.9041\t                 1.4192\t                      0.0000\t                         19.9430\t                         0.7123\t                     27.2663\t                         97.5529\n",
    "#96\t   1950    586.6791\t          31.3485\t                0.0544\t                 0.8945\t                      1.7952\t                         8.6708                          \t 0.3097\t                     11.4148\t                         42.7633\n",
    "#11\t   1865    1279.5331\t      68.3703\t                0.1187                   1.9509                    \t  3.9152\t                         18.9107\t                         0.6754                      24.8954\t                         93.2657\n"
   ]
  },
  {
   "cell_type": "markdown",
   "id": "0cbb6f89-debc-442c-939f-c6e12d5eeb46",
   "metadata": {},
   "source": [
    "## Linear Regression"
   ]
  },
  {
   "cell_type": "code",
   "execution_count": null,
   "id": "82164851-dbe2-47e9-8229-440def2bc776",
   "metadata": {},
   "outputs": [],
   "source": [
    "# Initialize the logistic regression model\n",
    "md1 = LinearRegression()\n"
   ]
  },
  {
   "cell_type": "code",
   "execution_count": null,
   "id": "9686e0ea-8e7d-40ff-a31b-f2bd1c02ab8c",
   "metadata": {},
   "outputs": [],
   "source": [
    "# Train the model\n",
    "md1.fit(X_train, y_train)"
   ]
  },
  {
   "cell_type": "code",
   "execution_count": null,
   "id": "d54ad368-db17-48a4-ab42-c5d0d086f3ec",
   "metadata": {},
   "outputs": [],
   "source": [
    "# Assigning y_hat variable\n",
    "y_hat = md1.predict(X_test)\n",
    "len(y_hat)\n",
    "\n",
    "\n",
    "# 51"
   ]
  },
  {
   "cell_type": "markdown",
   "id": "f2f346ff-1413-4375-94c4-fee2960b38d9",
   "metadata": {},
   "source": [
    "## Metrics for Classification"
   ]
  },
  {
   "cell_type": "code",
   "execution_count": null,
   "id": "b35786f3-2f02-4025-ad3f-51e3678e1f99",
   "metadata": {},
   "outputs": [],
   "source": [
    "# how far off on avg?\n",
    "mean_absolute_error(y_test, y_hat)\n",
    "\n",
    "# 4.9370094069556716e-14"
   ]
  },
  {
   "cell_type": "code",
   "execution_count": null,
   "id": "5039811d-52b8-4e55-91dc-f1a31770d30b",
   "metadata": {},
   "outputs": [],
   "source": [
    "#  now take into account a few points being far off ....\n",
    "# RMSE - analogous to std of your predictions...\n",
    "np.sqrt(mean_squared_error(y_test, y_hat))\n",
    "\n",
    "\n",
    "np.float64(6.615070741123835e-14)"
   ]
  },
  {
   "cell_type": "code",
   "execution_count": null,
   "id": "bc1b4aa0-b9aa-452a-9f73-60b3115d0152",
   "metadata": {},
   "outputs": [],
   "source": [
    "# coffiecient of determination\n",
    "r2 = r2_score(y_test,y_hat)\n",
    "r2\n",
    "\n",
    "\n",
    "# 1.0"
   ]
  },
  {
   "cell_type": "code",
   "execution_count": null,
   "id": "6f343d8e-af53-4f46-a19a-68ce35535bf7",
   "metadata": {},
   "outputs": [],
   "source": [
    "# Applying my saved function\n",
    "myfuns.adj_r2(r2,len(y_test),len(X_test.columns))\n",
    "\n",
    "\n",
    "# 1.0"
   ]
  },
  {
   "cell_type": "code",
   "execution_count": null,
   "id": "325d5271-674d-4427-ac04-d96d2d9e1d15",
   "metadata": {},
   "outputs": [],
   "source": [
    "# printing the variability\n",
    "print(f\"{r2_score(y_test, y_hat)* 100:.2f}% of the variability in the dependent variable is explained by the independent variables.\") \n",
    "\n",
    "\n",
    "# 100.00% of the variability in the dependent variable is explained by the independent variables.\n"
   ]
  },
  {
   "cell_type": "code",
   "execution_count": null,
   "id": "0a188653-3f37-4dee-b68d-fa90dfcd1e8c",
   "metadata": {},
   "outputs": [],
   "source": [
    "# evaluating residuals\n",
    "pd.DataFrame({'Actual': y_test, 'Preds': y_hat})\n",
    "\n",
    "\n",
    "\n",
    "\n",
    "#\t    Actual\t    Preds\n",
    "#138\t268.0984\t268.0984\n",
    "#30   \t2.8267\t    2.8267\n",
    "#119\t46.9411\t    46.9411\n",
    "#29 \t2.0191\t    2.0191\n",
    "#143\t282.3746\t282.3746\n",
    "#162\t399.6468\t399.6468\n",
    "#165\t139.8350\t139.8350\n",
    "#51 \t113.4729\t113.4729\n",
    "#105\t78.7965\t    78.7965\n",
    "#60\t    509.4388\t509.4388\n",
    "#15  \t95.1378\t    95.1378\n",
    "#157\t364.1604\t364.1604\n",
    "#133\t157.6768\t157.6768\n",
    "#--------------------\n",
    "#101\t51.9476   \t51.9476\n",
    "\n"
   ]
  },
  {
   "cell_type": "code",
   "execution_count": null,
   "id": "efc02771-f12c-4cfe-8cff-53f568da1373",
   "metadata": {},
   "outputs": [],
   "source": [
    "# evaluating residuals contd..\n",
    "eval_df = pd.DataFrame({'Actuals': y_test, 'Preds': y_hat})\n",
    "eval_df['abs_diff'] = np.abs(eval_df['Actuals'] - eval_df['Preds'])\n",
    "eval_df['residuals'] = eval_df['Actuals'] - eval_df['Preds']\n",
    "eval_df.head()\n",
    "\n",
    "\n",
    "\n",
    "\n",
    "#       Actuals\t  Preds\t  abs_diff\t  residuals\n",
    "#138\t268.0984 268.0984 5.684342e-14\t5.684342e-14\n",
    "#30\t    2.8267\t2.8267\t1.465494e-14\t1.465494e-14\n",
    "#119\t46.9411\t46.9411\t6.394885e-14\t-6.394885e-14\n",
    "#29\t    2.0191\t2.0191\t1.554312e-14\t1.554312e-14\n",
    "#143\t282.3746 282.3746 0.000000e+00\t0.000000e+00\n"
   ]
  },
  {
   "cell_type": "code",
   "execution_count": null,
   "id": "799cfe1a-9d19-4408-8077-af885f6cd88f",
   "metadata": {},
   "outputs": [],
   "source": [
    "eval_df.mean()\n",
    "\n",
    "\n",
    "\n",
    "#Actuals      1.160022e+02\n",
    "#Preds        1.160022e+02\n",
    "#abs_diff     4.937009e-14\n",
    "#residuals    8.448580e-15\n",
    "#dtype: float64"
   ]
  },
  {
   "cell_type": "code",
   "execution_count": null,
   "id": "91f9a526-ff1f-4041-9e81-97087b1aed79",
   "metadata": {},
   "outputs": [],
   "source": [
    "# Calculating the mean_absolute_error\n",
    "mean_absolute_error(eval_df.Actuals,eval_df.Preds)\n",
    "\n",
    "\n",
    "#4.9370094069556716e-14"
   ]
  },
  {
   "cell_type": "code",
   "execution_count": null,
   "id": "1db3ca58-8c75-40f7-bf0b-30b7a3e6a2c5",
   "metadata": {},
   "outputs": [],
   "source": [
    "# More visual explanation....\n",
    "\n",
    "fig,axes = plt.subplots(nrows=2, ncols=2, figsize=(8,6))\n",
    "sns.boxplot(data=eval_df[['Actuals', 'Preds']], ax=axes[0,0]) \n",
    "sns.boxplot(data=eval_df[['abs_diff', 'residuals']], ax=axes[0,1])\n",
    "sns.histplot(data=eval_df['residuals'], kde=True, bins=8, ax=axes[1,0])\n",
    "sns.scatterplot(data=eval_df['residuals'], ax=axes[1,1])\n",
    " \n",
    "plt.tight_layout()\n",
    "plt.show()\n",
    " "
   ]
  },
  {
   "cell_type": "code",
   "execution_count": null,
   "id": "e80eb129-6880-437a-974a-52252e7c8b32",
   "metadata": {},
   "outputs": [],
   "source": [
    "# Need scipy for the probability plot below (optional)\n",
    "\n",
    "import scipy as sp\n",
    " \n",
    "# probability plot (more stats / R based concept)\n",
    "fig, ax = plt.subplots(figsize=(6,8))\n",
    "_ = sp.stats.probplot(eval_df['residuals'], plot=ax)\n",
    "\n",
    "# red line represent a perfect normal distribution\n",
    "\n",
    "plt.show()\n",
    " "
   ]
  },
  {
   "cell_type": "markdown",
   "id": "2a0d7254-3407-4092-bd78-d426fdb098e0",
   "metadata": {},
   "source": [
    "## Insights Based on the Findings:"
   ]
  },
  {
   "cell_type": "markdown",
   "id": "fcac4cf1-b21c-4366-88b4-2e656e9999f3",
   "metadata": {},
   "source": [
    "###  Key Observations\n",
    "\n",
    "The absolute differences and residuals are extremely small (close to zero), indicating an excellent fit of the model to the data.\n",
    "\n",
    "The predicted values align almost perfectly with the actual values, suggesting that the model captures the relationship between production and emissions effectively.\n",
    "\n",
    "No significant errors or deviations were observed in the predictions, which validates the accuracy of the regression model.\n",
    "\n",
    "### Conclusion & Implications\n",
    "\n",
    "Based on the findings, the Linear Regression Model is highly accurate in predicting total emissions (MtCO2e) from the production data. This suggests that:\n",
    "Production volume is a strong predictor of total emissions.\n",
    "\n",
    "The model can be used for forecasting future emissions trends.\n",
    "\n",
    "Organizations can rely on the model for emission reduction strategies and regulatory reporting.\n",
    "\n",
    "Further analysis can explore the impact of different emission sources to optimize carbon management strategies.\n",
    "  \n",
    "\n",
    "\n",
    "\n",
    "\n",
    "This analysis provides a strong foundation for data-driven decision-making in emissions management and climate action initiatives."
   ]
  }
 ],
 "metadata": {
  "kernelspec": {
   "display_name": "Python 3 (ipykernel)",
   "language": "python",
   "name": "python3"
  },
  "language_info": {
   "codemirror_mode": {
    "name": "ipython",
    "version": 3
   },
   "file_extension": ".py",
   "mimetype": "text/x-python",
   "name": "python",
   "nbconvert_exporter": "python",
   "pygments_lexer": "ipython3",
   "version": "3.11.11"
  }
 },
 "nbformat": 4,
 "nbformat_minor": 5
}
