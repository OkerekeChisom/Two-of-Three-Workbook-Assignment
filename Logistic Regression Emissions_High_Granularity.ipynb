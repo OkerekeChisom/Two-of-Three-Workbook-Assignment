{
 "cells": [
  {
   "cell_type": "markdown",
   "id": "8a14bdd2-3a64-4ef2-8459-6d7e28b43dc0",
   "metadata": {},
   "source": [
    "#  LogisticRegression-EmissionsHighGranularity Metrics"
   ]
  },
  {
   "cell_type": "markdown",
   "id": "39b6ef81-da15-4f42-9138-727ca7d477f8",
   "metadata": {},
   "source": [
    "## Model Objectives:\n",
    "- Dataset (emissions_high_granularity)\n",
    "- Using logistic regression model in this context is to predict whether the emissions level (i.e., total_emissions_MtCO2e) for a given observation      falls into the \"High\" or \"Low\" category.\n",
    "- To classify the emissions level based on standard.\n"
   ]
  },
  {
   "cell_type": "code",
   "execution_count": null,
   "id": "41ff41ad-e4e5-4c4e-8c17-1fa2d8aa62f6",
   "metadata": {},
   "outputs": [],
   "source": [
    "import pandas as pd\n",
    "import numpy as np\n",
    "import matplotlib.pyplot as plt\n",
    "import seaborn as sns\n",
    "\n",
    "from sklearn.model_selection import train_test_split\n",
    "from sklearn.preprocessing import StandardScaler\n",
    "\n",
    "from sklearn.linear_model import LogisticRegression\n",
    "from sklearn.metrics import (accuracy_score, precision_score, recall_score, f1_score,confusion_matrix, roc_auc_score, classification_report)\n"
   ]
  },
  {
   "cell_type": "markdown",
   "id": "faf799ca-997b-4e74-b30d-e1ac1e9fbaf3",
   "metadata": {},
   "source": [
    "## Load the Dataset"
   ]
  },
  {
   "cell_type": "code",
   "execution_count": null,
   "id": "4f22b057-d576-4cfc-ad8b-2ce04b967837",
   "metadata": {},
   "outputs": [],
   "source": [
    "df = pd.read_csv('emissions_high_granularity.csv')"
   ]
  },
  {
   "cell_type": "code",
   "execution_count": null,
   "id": "dd809f20-aa02-4365-93bd-5b4391c3a4c6",
   "metadata": {
    "scrolled": true
   },
   "outputs": [],
   "source": [
    "# Creating the emissions_category column \n",
    "df['emissions_category'] = df['total_emissions_MtCO2e'].apply(lambda x: 'High' if x > 50 else 'Low')\n",
    "\n",
    "# Save DataFrame to CSV\n",
    "df.to_csv('emissions_high_granularity.csv', index=False)\n",
    "\n",
    "print('Successfully saved')\n",
    "\n",
    "\n",
    "# Successfully saved"
   ]
  },
  {
   "cell_type": "markdown",
   "id": "48d9f727-b991-42a3-adc7-d8d84f557ac2",
   "metadata": {},
   "source": [
    "## Checking Dataset Structures"
   ]
  },
  {
   "cell_type": "code",
   "execution_count": null,
   "id": "4bf678d6-1670-490b-9869-5e7d493fea3b",
   "metadata": {},
   "outputs": [],
   "source": [
    "df.info()\n",
    "\n",
    "\n",
    "# <class 'pandas.core.frame.DataFrame'>\n",
    "# RangeIndex: 169 entries, 0 to 168\n",
    "# Data columns (total 16 columns):\n",
    " #   Column                              Non-Null Count  Dtype  \n",
    "# ---  ------                              --------------  -----  \n",
    "# 0   year                                169 non-null    int64  \n",
    "# 1   parent_entity                       169 non-null    object \n",
    "# 2   parent_type                         169 non-null    object \n",
    "# 3   reporting_entity                    169 non-null    object \n",
    "# 4   commodity                           169 non-null    object \n",
    "# 5   production_value                    169 non-null    float64\n",
    "# 6   production_unit                     169 non-null    object \n",
    "# 7   product_emissions_MtCO2             169 non-null    float64\n",
    "# 8   flaring_emissions_MtCO2             169 non-null    float64\n",
    "# 9   venting_emissions_MtCO2             169 non-null    float64\n",
    "# 10  own_fuel_use_emissions_MtCO2        169 non-null    float64\n",
    "# 11  fugitive_methane_emissions_MtCO2e   169 non-null    float64\n",
    "# 12  fugitive_methane_emissions_MtCH4    169 non-null    float64\n",
    "# 13  total_operational_emissions_MtCO2e  169 non-null    float64\n",
    "# 14  total_emissions_MtCO2e              169 non-null    float64\n",
    "# 15  emissions_category                  169 non-null    object \n",
    "# dtypes: float64(9), int64(1), object(6)\n",
    "# memory usage: 21.3+ KB"
   ]
  },
  {
   "cell_type": "code",
   "execution_count": null,
   "id": "9dc89ce8-b50e-433c-8db7-0e191fa949a8",
   "metadata": {},
   "outputs": [],
   "source": [
    "df.head(3)\n",
    "\n",
    "\n",
    "#   year\tparent_entity\tparent_type          \treporting_entity\tcommodity\t         production_value\tproduction_unit\t    product_emissions_MtCO2\t   flaring_emissions_MtCO2\tventing_emissions_MtCO2\t   own_fuel_use_emissions_MtCO2\t  fugitive_methane_emissions_MtCO2e\t   fugitive_methane_emissions_MtCH4\t   total_operational_emissions_MtCO2e\ttotal_emissions_MtCO2e\temissions_category\n",
    "#0\t1854\tAdaro Energy\tInvestor-owned Company\tAdaro Energy\t    Sub-Bituminous Coal\t 50.90\t            Million tonnes/yr\t92.3401                     0.0\t                    0.0\t                        0.0\t                          10.4316\t                           0.3726\t                           10.4316\t                            102.7717\t            High\n",
    "#1\t1855\tAdaro Energy\tInvestor-owned Company\tAdaro Energy\t    Metallurgical Coal\t 0.90\t            Million tonnes/yr\t2.3989\t                    0.0\t                    0.0                        \t0.0\t                          0.2710\t                           0.0097\t                           0.2710\t                            2.6700\t                Low\n",
    "#2\t1856\tAdaro Energy\tInvestor-owned Company\tAdaro Energy\t    Sub-Bituminous Coal\t 48.23\t            Million tonnes/yr\t87.4963\t                    0.0\t                    0.0\t                        0.0\t                          9.8844\t                           0.3530\t                           9.8844\t                            97.3807\t                High\n"
   ]
  },
  {
   "cell_type": "code",
   "execution_count": null,
   "id": "7105176c-bb27-4ea2-bb82-eaf381bf5f7c",
   "metadata": {},
   "outputs": [],
   "source": [
    "df.columns\n",
    "\n",
    "\n",
    "# Index(['year', 'parent_entity', 'parent_type', 'reporting_entity', 'commodity',\n",
    "#       'production_value', 'production_unit', 'product_emissions_MtCO2',\n",
    "#       'flaring_emissions_MtCO2', 'venting_emissions_MtCO2',\n",
    "#       'own_fuel_use_emissions_MtCO2', 'fugitive_methane_emissions_MtCO2e',\n",
    "#       'fugitive_methane_emissions_MtCH4',\n",
    "#       'total_operational_emissions_MtCO2e', 'total_emissions_MtCO2e',\n",
    "#       'emissions_category'],\n",
    "#     dtype='object')"
   ]
  },
  {
   "cell_type": "code",
   "execution_count": null,
   "id": "f1566d97-cf47-4830-b0a3-828e295ed10a",
   "metadata": {},
   "outputs": [],
   "source": [
    "df.shape\n",
    "\n",
    "\n",
    "# (169, 16)"
   ]
  },
  {
   "cell_type": "code",
   "execution_count": null,
   "id": "51137db7-ab88-404d-b2c3-a5d6524aa8ee",
   "metadata": {},
   "outputs": [],
   "source": [
    "df.describe().T\n",
    "\n",
    "\n",
    "\n",
    "#               \t                   count\t    mean\t     std\t      min\t       25%\t      50%\t       75%      \tmax\n",
    "#      year\t                           169.0\t1938.000000\t    48.930222\t  1854.0000\t  1896.0000\t  1938.0000\t   1980.0000\t2022.0000\n",
    "# production_value\t                   169.0\t517.610641\t    638.228700\t  0.2200\t  26.7800     294.1827\t   779.3000\t    2689.4303\n",
    "# product_emissions_MtCO2\t           169.0\t103.311733\t    122.626849\t  0.0985\t  15.3799\t  63.6150\t   129.0338\t    501.6130\n",
    "# flaring_emissions_MtCO2\t           169.0\t1.220998\t    2.116210\t  0.0000\t  0.0000\t  0.0646\t   1.7422\t    7.9980\n",
    "# venting_emissions_MtCO2\t           169.0\t0.758836\t    0.970974  \t  0.0000\t  0.0000\t  0.4188\t   1.1094\t    4.1005\n",
    "# own_fuel_use_emissions_MtCO2         169.0    0.947757\t    1.958714\t  0.0000   \t  0.0000\t  0.0000\t   0.7779\t    8.2293\n",
    "# fugitive_methane_emissions_MtCO2e\t   169.0\t9.959031\t    9.464944\t  0.0183\t  2.1448\t  7.2107\t   14.9693      39.7481\n",
    "# fugitive_methane_emissions_MtCH4\t   169.0\t0.355678\t    0.338033\t  0.0007\t  0.0766\t  0.2575\t   0.5346\t    1.4196\n",
    "# total_operational_emissions_MtCO2e   169.0\t12.886622\t    12.752361  \t  0.0250\t  2.2339\t  8.6629\t   19.9125      52.3273\n",
    "# total_emissions_MtCO2e\t           169.0    116.198352\t    131.234395\t  0.1344\t  17.3642\t  74.0578\t   144.2469 \t538.5495"
   ]
  },
  {
   "cell_type": "markdown",
   "id": "d3ca15cf-d7ce-4040-9526-eee397f8de60",
   "metadata": {},
   "source": [
    "## Perform EDA"
   ]
  },
  {
   "cell_type": "code",
   "execution_count": null,
   "id": "0b0c7cb6-ac4a-484c-a30c-3b98d20a3ef5",
   "metadata": {},
   "outputs": [],
   "source": [
    "# no EDA to perform in this model as the focus is just on a simple pipeline and how it works...\n",
    "df.isna().sum()\n",
    "\n",
    "\n",
    "\n",
    "#year                                  0\n",
    "#parent_entity                         0\n",
    "#parent_type                           0\n",
    "#reporting_entity                      0\n",
    "#commodity                             0\n",
    "#production_value                      0\n",
    "#production_unit                       0\n",
    "#product_emissions_MtCO2               0\n",
    "#flaring_emissions_MtCO2               0\n",
    "#venting_emissions_MtCO2               0\n",
    "#own_fuel_use_emissions_MtCO2          0\n",
    "#fugitive_methane_emissions_MtCO2e     0\n",
    "#fugitive_methane_emissions_MtCH4      0\n",
    "#total_operational_emissions_MtCO2e    0\n",
    "#total_emissions_MtCO2e                0\n",
    "#emissions_category                    0\n",
    "#dtype: int64\n"
   ]
  },
  {
   "cell_type": "markdown",
   "id": "ad82b02b-6814-4a8e-96b7-c7062301cb96",
   "metadata": {},
   "source": [
    "## Prepare the data for Modeling"
   ]
  },
  {
   "cell_type": "code",
   "execution_count": null,
   "id": "15cd097e-3d9e-4eaf-87cd-b64bcb37bd76",
   "metadata": {},
   "outputs": [],
   "source": [
    "X =  df.drop(columns= ['parent_entity', 'parent_type', 'reporting_entity', 'commodity',\n",
    "        'production_unit','flaring_emissions_MtCO2', 'venting_emissions_MtCO2',\n",
    "       'own_fuel_use_emissions_MtCO2', 'fugitive_methane_emissions_MtCH4', 'total_emissions_MtCO2e',\n",
    "       'emissions_category'])\n",
    "y = df['emissions_category']"
   ]
  },
  {
   "cell_type": "code",
   "execution_count": null,
   "id": "f7242018-f061-4bd6-9883-b77526042bcc",
   "metadata": {},
   "outputs": [],
   "source": [
    "X.head(3)\n",
    "\n",
    "\n",
    "#\tyear\tproduction_value\tproduct_emissions_MtCO2\t  fugitive_methane_emissions_MtCO2e \ttotal_operational_emissions_MtCO2e\n",
    "#0\t1854\t50.90\t            92.3401\t                  10.4316\t                            10.4316\n",
    "#1\t1855\t0.90\t            2.3989\t                  0.2710\t                            0.2710\n",
    "#2\t1856\t48.23\t            87.4963\t                  9.8844\t                            9.8844\n"
   ]
  },
  {
   "cell_type": "code",
   "execution_count": null,
   "id": "0bae6c25-2ee8-48c0-bdd5-6314de07fa18",
   "metadata": {},
   "outputs": [],
   "source": [
    "# one.hot enconding\n",
    "X = pd.get_dummies(X,drop_first=True)\n",
    "X.head(2)\n",
    "\n",
    "\n",
    "\n",
    "# \tyear\tproduction_value\tproduct_emissions_MtCO2\t fugitive_methane_emissions_MtCO2e\ttotal_operational_emissions_MtCO2e\n",
    "#0\t1854\t 50.9\t            92.3401\t                 10.4316\t                         10.4316\n",
    "#1\t1855\t 0.9\t            2.3989\t                 0.2710\t                             0.2710\n"
   ]
  },
  {
   "cell_type": "markdown",
   "id": "65fdb9b4-e692-4149-9ce7-5614aa2b69d6",
   "metadata": {},
   "source": [
    "## Split the data into train and test sets"
   ]
  },
  {
   "cell_type": "code",
   "execution_count": null,
   "id": "70f4e6c5-54c5-441f-846b-d49bcbbd0ad8",
   "metadata": {},
   "outputs": [],
   "source": [
    "X_train, X_test, y_train, y_test = train_test_split(X, y, test_size=0.3, random_state=42)"
   ]
  },
  {
   "cell_type": "code",
   "execution_count": null,
   "id": "b9c49065-2699-4a73-adbe-38542cc2e889",
   "metadata": {},
   "outputs": [],
   "source": [
    "X_train.shape, X_test.shape, y_train.shape, y_test.shape\n",
    "\n",
    "# ((118, 5), (51, 5), (118,), (51,))"
   ]
  },
  {
   "cell_type": "code",
   "execution_count": null,
   "id": "10121460-9f85-42f8-b883-0a21673d1cf9",
   "metadata": {},
   "outputs": [],
   "source": [
    "# Must standardize your data\n",
    "scaler = StandardScaler()\n",
    "\n",
    "# Fit on training set only.\n",
    "scaler.fit(X_train)\n",
    "\n",
    "# Apply transform to both the training set and the test set.\n",
    "X_train = scaler.transform(X_train)\n",
    "X_test = scaler.transform(X_test)"
   ]
  },
  {
   "cell_type": "code",
   "execution_count": null,
   "id": "f3e9e272-91d7-4ad2-b278-348630dba796",
   "metadata": {},
   "outputs": [],
   "source": [
    "# Explore the prepared data...\n",
    "X_train\n",
    "\n",
    "\n",
    "#array([[ 1.52919893e+00,  7.44107077e-01,  2.21720752e+00,\n",
    "#         1.04214173e+00,  1.11911711e+00],\n",
    "#       [ 2.20882366e-01,  1.07775295e-01, -5.97452653e-01,\n",
    "#        -1.48850631e-01, -1.23486193e-01],\n",
    "#       [-1.51672558e+00,  1.18245221e+00, -2.90010715e-01,\n",
    "#         9.33071506e-01,  9.33261625e-01],\n",
    "#       [-3.71948579e-01, -7.95353396e-01, -8.55818381e-01,\n",
    "#        -1.05807560e+00, -1.01154600e+00],\n",
    "#        -----------------------------------------\n",
    "#       [ 3.43537044e-01,  5.34315720e-01, -4.75428553e-01,\n",
    "#         2.80562542e-01,  2.95940925e-01]])\n"
   ]
  },
  {
   "cell_type": "code",
   "execution_count": null,
   "id": "30191bf6-bd15-4b04-8ca1-76c2bbf239a6",
   "metadata": {},
   "outputs": [],
   "source": [
    "y_train\n",
    "\n",
    "\n",
    "#160    High\n",
    "#96      Low\n",
    "#11     High\n",
    "#67      Low\n",
    "#132    High\n",
    " #      ... \n",
    "#71      Low\n",
    "#106    High\n",
    "#14     High\n",
    "#92      Low\n",
    "#102    High\n",
    "#Name: emission_category, Length: 118, dtype: object"
   ]
  },
  {
   "cell_type": "code",
   "execution_count": null,
   "id": "304f6ab2-38f8-4957-8f0e-fd5cd9c8953f",
   "metadata": {},
   "outputs": [],
   "source": [
    "(df['emissions_category'].unique())\n",
    "\n",
    "\n",
    "# array(['High', 'Low'], dtype=object)"
   ]
  },
  {
   "cell_type": "markdown",
   "id": "48639832-8da1-467d-9ad9-9bbd7eb876d2",
   "metadata": {},
   "source": [
    "## Logistic Regression\n"
   ]
  },
  {
   "cell_type": "code",
   "execution_count": null,
   "id": "b773369a-e655-4399-88d6-983a865eb922",
   "metadata": {},
   "outputs": [],
   "source": [
    "# Initialize the logistic regression model\n",
    "md1 = LogisticRegression(max_iter= 1000)\n"
   ]
  },
  {
   "cell_type": "code",
   "execution_count": null,
   "id": "60940386-6738-456d-939f-80b8c630054d",
   "metadata": {},
   "outputs": [],
   "source": [
    "# Train the model\n",
    "md1.fit(X_train, y_train)"
   ]
  },
  {
   "cell_type": "markdown",
   "id": "18ef14dd-879e-4bdd-90ec-1f493d5e9700",
   "metadata": {},
   "source": [
    "## Metrics for Classification"
   ]
  },
  {
   "cell_type": "code",
   "execution_count": null,
   "id": "2aa7d19a-cefa-40d4-92c2-1fe9bf028eef",
   "metadata": {},
   "outputs": [],
   "source": [
    "# probability scores...\n",
    "# using probability scoring in their pipelines\n",
    "y_proba = md1.predict_proba(X_test)\n",
    "y_proba[0:5]\n",
    "\n",
    "\n",
    "#array([[9.99436407e-01, 5.63593047e-04],\n",
    "#       [3.70949775e-02, 9.62905023e-01],\n",
    "#       [2.60452333e-01, 7.39547667e-01],\n",
    "#       [3.53918520e-02, 9.64608148e-01],\n",
    "#       [9.99682708e-01, 3.17291884e-04]])"
   ]
  },
  {
   "cell_type": "code",
   "execution_count": null,
   "id": "02a0e93f-acb9-4ab5-a98c-20a4cab2489b",
   "metadata": {},
   "outputs": [],
   "source": [
    "# Predict on the test set\n",
    "y_pred = md1.predict(X_test)\n",
    "y_pred\n",
    "\n",
    "\n",
    "\n",
    "\n",
    "#array(['High', 'Low', 'Low', 'Low', 'High', 'High', 'High', 'High',\n",
    "#       'High', 'High', 'High', 'High', 'High', 'High', 'Low', 'Low',\n",
    "#       'Low', 'Low', 'Low', 'Low', 'Low', 'High', 'Low', 'Low', 'High',\n",
    "#       'Low', 'Low', 'High', 'Low', 'High', 'Low', 'High', 'High', 'Low',\n",
    "#       'Low', 'High', 'High', 'Low', 'High', 'High', 'Low', 'Low', 'Low',\n",
    "#       'High', 'High', 'Low', 'High', 'Low', 'High', 'Low', 'High'],\n",
    "#      dtype=object)\n"
   ]
  },
  {
   "cell_type": "code",
   "execution_count": null,
   "id": "88fd20ca-4bf4-48e0-b51c-49802bf29bd0",
   "metadata": {},
   "outputs": [],
   "source": [
    "# bring in just the probability of y_pred\n",
    "res = pd.DataFrame({'y_true': y_test, \n",
    "                    'y_pred' : y_pred, \n",
    "                    'proba': [max(proba) for proba in y_proba]})\n",
    "res['match'] = np.where(res['y_true'] ==res['y_pred'], 1,0)\n",
    "res\n",
    "\n",
    "\n",
    "\n",
    "\n",
    "#\t   y_true\ty_pred\tproba\t   match\n",
    "# 138\tHigh\tHigh\t0.999436\t1\n",
    "# 30\tLow\t    Low\t    0.962905\t1\n",
    "# 119\tLow\t    Low\t    0.739548\t1\n",
    "# 29\tLow\t    Low\t    0.964608\t1\n",
    "# 143\tHigh\tHigh\t0.999683\t1\n",
    "# 162\tHigh\tHigh\t0.999997\t1\n",
    "# 165\tHigh\tHigh\t0.999056\t1\n",
    "# 51\tHigh\tHigh\t0.935274\t1\n",
    "# 105\tHigh\tHigh\t0.919205\t1\n",
    "# 60\tHigh\tHigh\t1.000000\t1\n",
    "#-----------------------------------\n"
   ]
  },
  {
   "cell_type": "code",
   "execution_count": null,
   "id": "44cd1cd6-006d-4f48-87aa-896aec457213",
   "metadata": {},
   "outputs": [],
   "source": [
    "res['match']==0\n",
    "\n",
    "\n",
    "#138    False\n",
    "#30     False\n",
    "#119    False\n",
    "#29     False\n",
    "#143    False\n",
    "#162    False\n",
    "#165    False\n",
    "#51     False\n",
    "#105    False\n",
    "#-------------"
   ]
  },
  {
   "cell_type": "code",
   "execution_count": null,
   "id": "e8f989d0-b755-400e-b86f-1322b8a99d43",
   "metadata": {},
   "outputs": [],
   "source": [
    "res[res['match']==0]\n",
    "\n",
    "\n",
    "\n",
    "#   y_true\ty_pred\tproba\t  match\n",
    "#42\t High\tLow\t    0.623649\t0\n"
   ]
  },
  {
   "cell_type": "code",
   "execution_count": null,
   "id": "799d1525-1c28-450c-bd82-be8c1f3d12db",
   "metadata": {},
   "outputs": [],
   "source": [
    "# res DataFrame\n",
    "res[res['match']==0].sort_values('proba', ascending=False)\n",
    "\n",
    "\n",
    "#\ty_true\ty_pred\tproba\tmatch\n",
    "#42\tHigh\tLow\t   0.623649 \t0\n"
   ]
  },
  {
   "cell_type": "code",
   "execution_count": null,
   "id": "fc5722ba-f9aa-4255-a4fa-0613f70c979e",
   "metadata": {},
   "outputs": [],
   "source": [
    "misses= res[res['match']==0].sort_values('proba', ascending=False)"
   ]
  },
  {
   "cell_type": "code",
   "execution_count": null,
   "id": "3729e2e6-efb9-4908-8efa-0797de5832e0",
   "metadata": {},
   "outputs": [],
   "source": [
    "misses.index"
   ]
  },
  {
   "cell_type": "code",
   "execution_count": null,
   "id": "7f75d88f-7b9a-4940-99ab-fd6a4ff817e5",
   "metadata": {},
   "outputs": [],
   "source": [
    "misses_df =df.loc[list(misses.index)].copy()\n",
    "misses_df['proba'] = misses['proba']\n",
    "misses_df\n",
    "\n",
    "\n",
    "#   year\tparent_entity\tparent_type\t            reporting_entity\tcommodity\t         production_value\tproduction_unit\t        product_emissions_MtCO2\t flaring_emissions_MtCO2\tventing_emissions_MtCO2\t own_fuel_use_emissions_MtCO2\tfugitive_methane_emissions_MtCO2e\tfugitive_methane_emissions_MtCH4\ttotal_operational_emissions_MtCO2e\ttotal_emissions_MtCO2e\temissions_category\tproba\n",
    "#42\t1896\tAdaro Energy\tInvestor-owned Company\tAdaro Energy\t    Sub-Bituminous Coal\t 26.7\t            Million tonnes/yr\t    48.4377                \t 0.0\t                    0.0\t                     0.0\t                        5.472\t                            0.1954\t                            5.472\t                             53.9097\t            High\t            0.623649\n",
    "\n"
   ]
  },
  {
   "cell_type": "code",
   "execution_count": null,
   "id": "8ae95c00-30e2-4362-aee4-8a01e69bb24b",
   "metadata": {},
   "outputs": [],
   "source": [
    "# Saving the misses\n",
    "misses_df.to_csv('High_Lowe_Emissions.csv', index=True, index_label= 'Index')"
   ]
  },
  {
   "cell_type": "markdown",
   "id": "893b3817-7b0d-4592-8b6d-65b1103f108e",
   "metadata": {},
   "source": [
    "## Accuracy\n",
    "\n",
    "The ratio of correctly predicted intances to the total instances"
   ]
  },
  {
   "cell_type": "code",
   "execution_count": null,
   "id": "84e454db-24bf-4434-b1af-5820a139d981",
   "metadata": {},
   "outputs": [],
   "source": [
    "# assigning y_test to variable y_true to help with clarity while learning\n",
    "y_true = y_test"
   ]
  },
  {
   "cell_type": "code",
   "execution_count": null,
   "id": "e8b8a2f7-69f4-4fe9-bb65-d87a90794b1d",
   "metadata": {},
   "outputs": [],
   "source": [
    "y_pred = md1.predict(X_test)\n",
    "accuracy = accuracy_score(y_true,y_pred)\n",
    "print(f\"Accuracy of the logistic regression model :{accuracy:.2f}\")\n",
    "\n",
    "\n",
    "# Accuracy of the logistic regression model :0.98"
   ]
  },
  {
   "cell_type": "markdown",
   "id": "7cbbfe92-113c-4c6b-82cd-749120e9b858",
   "metadata": {},
   "source": [
    "## Precision\n",
    "\n",
    "The ratio of correctly predicted positive observations to the total predicted positives.\n"
   ]
  },
  {
   "cell_type": "code",
   "execution_count": null,
   "id": "78d0fc35-1284-428a-8332-b1a15dbe8d7c",
   "metadata": {},
   "outputs": [],
   "source": [
    "precision = precision_score(y_true,y_pred, average='weighted')\n",
    "precision\n",
    "\n",
    "# 0.9811764705882353"
   ]
  },
  {
   "cell_type": "markdown",
   "id": "792a85d3-33ac-4a4d-8983-95ec84aaa923",
   "metadata": {},
   "source": [
    "## Recall (Sensitivity)\n",
    "\n",
    "The ratio of correctly predicted positive observations to all oberservations in the actual class"
   ]
  },
  {
   "cell_type": "code",
   "execution_count": null,
   "id": "ec3bf548-f2b9-45d2-8076-0abc07f8f498",
   "metadata": {},
   "outputs": [],
   "source": [
    "recall= recall_score(y_true,y_pred, average ='weighted') # weighted\n",
    "recall\n",
    "\n",
    "# 0.9803921568627451\n"
   ]
  },
  {
   "cell_type": "markdown",
   "id": "bacec461-2fba-405f-9487-40837ed6fbcb",
   "metadata": {},
   "source": [
    "## F1 Score\n",
    "\n",
    "The weighted average of Precision and Recall\n"
   ]
  },
  {
   "cell_type": "code",
   "execution_count": null,
   "id": "d3b26210-c8c5-4a23-80a8-a222fa5d7fb7",
   "metadata": {},
   "outputs": [],
   "source": [
    "f1 = f1_score(y_true,y_pred, average='weighted') # weighted\n",
    "f1\n",
    "\n",
    "\n",
    "# 0.9804072572425195"
   ]
  },
  {
   "cell_type": "markdown",
   "id": "adc497cf-fb2d-4309-a96c-c9a1c0b33898",
   "metadata": {},
   "source": [
    "## Classification Report\n",
    "\n",
    "A comprehensive report showing precision, recall, F1 score and support for each class."
   ]
  },
  {
   "cell_type": "code",
   "execution_count": null,
   "id": "f41d6a27-f7a2-4780-9ec7-bddf7e997a69",
   "metadata": {},
   "outputs": [],
   "source": [
    "report = classification_report(y_true, y_pred)\n",
    "print(report)\n",
    "\n",
    "\n",
    "\n",
    "#                    precision     recall   f1-score  support\n",
    "\n",
    "#         High       1.00         0.96      0.98        27\n",
    "#          Low       0.96         1.00      0.98        24\n",
    "\n",
    "#     accuracy                              0.98        51\n",
    "#    macro avg       0.98         0.98      0.98        51\n",
    "# weighted avg       0.98         0.98      0.98        51"
   ]
  },
  {
   "cell_type": "markdown",
   "id": "8aca8168-3a9b-4b7b-b95d-db18db337417",
   "metadata": {},
   "source": [
    "## Confusion Matrix\n",
    "\n",
    "A table used to describe the performance of a classification model."
   ]
  },
  {
   "cell_type": "code",
   "execution_count": null,
   "id": "dd1727d0-822f-49c1-88df-14e35a40184c",
   "metadata": {},
   "outputs": [],
   "source": [
    "cm = confusion_matrix(y_true, y_pred)\n",
    "cm\n",
    "\n",
    "\n",
    "# array([[26,  1],\n",
    "#       [ 0, 24]])"
   ]
  },
  {
   "cell_type": "code",
   "execution_count": null,
   "id": "05560f95-cd0b-4718-8ea9-7d3fdf173552",
   "metadata": {},
   "outputs": [],
   "source": [
    "class_labels = ['High Emission', 'Low Emission'] \n",
    "\n",
    "plt.figure(figsize=(10, 7))  \n",
    "sns.heatmap(cm, annot=True, fmt='d', cmap='Blues', xticklabels=class_labels, yticklabels=class_labels, cbar=False)\n",
    "\n",
    "plt.xlabel('Predicted')\n",
    "plt.ylabel('Actual')\n",
    "plt.title('Confusion Matrix Heatmap')\n",
    "plt.show()\n"
   ]
  },
  {
   "cell_type": "markdown",
   "id": "7d1c8d92-29a0-4a8f-bd2b-17f972099d5e",
   "metadata": {},
   "source": [
    "## Insights Based on the Findings:"
   ]
  },
  {
   "cell_type": "markdown",
   "id": "6ea66c12-951d-4729-bdca-0fe7249059a3",
   "metadata": {},
   "source": [
    "1. Model Performance for High Class:\n",
    "  -  The model's precision for the High class is perfect (1.00), meaning it rarely makes a false positive prediction when it identifies a High. However, the recall is 0.96, indicating that the model missed a few High instances (4% of them). This means there were some actual High instances that the model classified as Low.\n",
    "\n",
    "2. Model Performance for Low Class:\n",
    "\n",
    " -  The precision for the Low class is 0.96, meaning that when the model predicts Low, it is correct 96% of the time. The recall is perfect (1.00), meaning the model identified every true Low instance.\n",
    "   \n",
    "3. Balanced Performance:\n",
    "\n",
    " -  The F1-scores for both classes are 0.98, which is a sign of balanced precision and recall. The model is not overfitting or underfitting to either class.\n",
    "   \n",
    "4. High Accuracy:\n",
    "\n",
    "-  With an overall accuracy of 98%, the model is making very few mistakes. This high accuracy is supported by the high precision, recall, and F1-scores for both classes.\n",
    "  \n",
    "#### Conclusion:\n",
    "  -  The model is performing exceptionally well in predicting the emissions category (High vs Low) based on the features X provided.\n",
    "    \n",
    "  -  The precision and recall for each class indicate that the model is good at both correctly identifying each class and minimizing false positives and false negatives, especially for the Low class, where recall is perfect.\n",
    "\n",
    "  -  The accuracy and F1-scores reflect a balanced and efficient model.\n",
    "\n",
    "\n",
    "This suggests that the features chosen to represent the data (even after dropping emissions-related columns) are effective at distinguishing between High and Low emissions categories. However, it’s still important to keep monitoring whether more features could improve the model further, especially in identifying instances of High emissions."
   ]
  }
 ],
 "metadata": {
  "kernelspec": {
   "display_name": "Python 3 (ipykernel)",
   "language": "python",
   "name": "python3"
  },
  "language_info": {
   "codemirror_mode": {
    "name": "ipython",
    "version": 3
   },
   "file_extension": ".py",
   "mimetype": "text/x-python",
   "name": "python",
   "nbconvert_exporter": "python",
   "pygments_lexer": "ipython3",
   "version": "3.11.11"
  }
 },
 "nbformat": 4,
 "nbformat_minor": 5
}
